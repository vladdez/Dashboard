{
 "cells": [
  {
   "cell_type": "code",
   "execution_count": 1,
   "metadata": {},
   "outputs": [
    {
     "name": "stderr",
     "output_type": "stream",
     "text": [
      "\u001b[32m\u001b[1m  Activating\u001b[22m\u001b[39m project at `c:\\Users\\Vlad\\Projects\\Dashboard\\env`\n"
     ]
    }
   ],
   "source": [
    "using Pkg\n",
    "Pkg.activate(\"../Dashboard/env\")"
   ]
  },
  {
   "cell_type": "code",
   "execution_count": 3,
   "metadata": {},
   "outputs": [],
   "source": [
    "list = [\"Makie\", \"GLMakie\", \"PyMNE\", \"JLD2\", \"TopoPlots\", \"StatsBase\", \"Pipe\", \"ColorSchemes\", \"Colors\", \"LinearAlgebra\", \"AbstractPlotting\"]\n",
    " \n",
    "for i in list\n",
    "    import Pkg; Pkg.add(i);\n",
    "    print(i, '\\n')\n",
    "end "
   ]
  },
  {
   "cell_type": "code",
   "execution_count": 2,
   "metadata": {},
   "outputs": [],
   "source": [
    "using Makie\n",
    "using GLMakie\n",
    "using PyMNE\n",
    "using JLD2 # loading data\n",
    "using TopoPlots\n",
    "using StatsBase # mean/std\n",
    "using Pipe\n",
    "using ColorSchemes\n",
    "using Colors\n",
    "using LinearAlgebra\n"
   ]
  },
  {
   "cell_type": "code",
   "execution_count": 13,
   "metadata": {},
   "outputs": [
    {
     "data": {
      "text/plain": [
       "false"
      ]
     },
     "metadata": {},
     "output_type": "display_data"
    }
   ],
   "source": [
    "Makie.inline!(false)"
   ]
  },
  {
   "cell_type": "code",
   "execution_count": 3,
   "metadata": {},
   "outputs": [
    {
     "name": "stderr",
     "output_type": "stream",
     "text": [
      "┌ Warning: type DataFrames.DataFrame does not exist in workspace; reconstructing\n",
      "└ @ JLD2 C:\\Users\\Vlad\\.julia\\packages\\JLD2\\1YVED\\src\\data\\reconstructing_datatypes.jl:495\n",
      "┌ Warning: type DataFrames.Index does not exist in workspace; reconstructing\n",
      "└ @ JLD2 C:\\Users\\Vlad\\.julia\\packages\\JLD2\\1YVED\\src\\data\\reconstructing_datatypes.jl:495\n"
     ]
    }
   ],
   "source": [
    "begin # load  one single-subject dataset \n",
    "\t#p = \"../../../../store/users/ehinger/projects/unfoldjl_dev/dev/UnfoldMakie/artifact/sub-002_ses-N170_task-N170_eeg.set\"\n",
    "\tp = \"../EEG_plots/data/sub-002_ses-N170_task-N170_eeg.set\"\n",
    "    raw = PyMNE.io.read_raw_eeglab(p,preload=true)\n",
    "\t#p_all = \"../../../../store/users/ehinger/projects/unfoldjl_dev/data/erpcore-N170.jld2\"\n",
    "    p_all = \"../EEG_plots/data/erpcore-N170.jld2\"\n",
    "\tpresaved_data = load(p_all)\n",
    "\tdat_e = presaved_data[\"data_e_all\"].* 1e6\n",
    "\tevt_e = presaved_data[\"df_e_all\"]\n",
    "\tmon = PyMNE.channels.make_standard_montage(\"standard_1020\")\n",
    "\traw.set_channel_types(Dict(\"HEOG_left\"=>\"eog\",\"HEOG_right\"=>\"eog\",\"VEOG_lower\"=>\"eog\"))\n",
    "\traw.set_montage(mon,match_case=false)\n",
    "\tpos = PyMNE.channels.make_eeg_layout(get_info(raw)).pos\n",
    "\tpos = [Point2f(pos[k,1],pos[k,2]) for k in 1:size(pos,1)]\n",
    "end;"
   ]
  },
  {
   "cell_type": "code",
   "execution_count": 18,
   "metadata": {},
   "outputs": [
    {
     "name": "stderr",
     "output_type": "stream",
     "text": [
      "\u001b[32m\u001b[1m   Resolving\u001b[22m\u001b[39m package versions..."
     ]
    },
    {
     "name": "stderr",
     "output_type": "stream",
     "text": [
      "\n"
     ]
    },
    {
     "ename": "Pkg.Resolve.ResolverError",
     "evalue": "Unsatisfiable requirements detected for package \u001b[38;5;2mMakie [ee78f7c6]\u001b[39m:\n \u001b[38;5;2mMakie [ee78f7c6]\u001b[39m log:\n ├─possible versions are: \u001b[38;5;2m0.9.0-0.19.0\u001b[39m or uninstalled\n ├─restricted to versions \u001b[38;5;2m0.19.0\u001b[39m by an explicit requirement, leaving only versions \u001b[38;5;2m0.19.0\u001b[39m\n └─restricted by compatibility requirements with \u001b[38;5;3mTopoPlots [2bdbdf9c]\u001b[39m to versions: \u001b[38;5;2m0.17.8-0.18.4\u001b[39m — no versions left\n   └─\u001b[38;5;3mTopoPlots [2bdbdf9c]\u001b[39m log:\n     ├─possible versions are: \u001b[38;5;3m0.1.0-0.1.2\u001b[39m or uninstalled\n     └─restricted to versions \u001b[38;5;3m*\u001b[39m by an explicit requirement, leaving only versions \u001b[38;5;3m0.1.0-0.1.2\u001b[39m",
     "output_type": "error",
     "traceback": [
      "Unsatisfiable requirements detected for package \u001b[38;5;2mMakie [ee78f7c6]\u001b[39m:\n",
      " \u001b[38;5;2mMakie [ee78f7c6]\u001b[39m log:\n",
      " ├─possible versions are: \u001b[38;5;2m0.9.0-0.19.0\u001b[39m or uninstalled\n",
      " ├─restricted to versions \u001b[38;5;2m0.19.0\u001b[39m by an explicit requirement, leaving only versions \u001b[38;5;2m0.19.0\u001b[39m\n",
      " └─restricted by compatibility requirements with \u001b[38;5;3mTopoPlots [2bdbdf9c]\u001b[39m to versions: \u001b[38;5;2m0.17.8-0.18.4\u001b[39m — no versions left\n",
      "   └─\u001b[38;5;3mTopoPlots [2bdbdf9c]\u001b[39m log:\n",
      "     ├─possible versions are: \u001b[38;5;3m0.1.0-0.1.2\u001b[39m or uninstalled\n",
      "     └─restricted to versions \u001b[38;5;3m*\u001b[39m by an explicit requirement, leaving only versions \u001b[38;5;3m0.1.0-0.1.2\u001b[39m\n",
      "\n",
      "Stacktrace:\n",
      "  [1] propagate_constraints!(graph::Pkg.Resolve.Graph, sources::Set{Int64}; log_events::Bool)\n",
      "    @ Pkg.Resolve C:\\Users\\Vlad\\AppData\\Local\\Programs\\julia-1.8.3\\share\\julia\\stdlib\\v1.8\\Pkg\\src\\Resolve\\graphtype.jl:1072\n",
      "  [2] propagate_constraints! (repeats 2 times)\n",
      "    @ C:\\Users\\Vlad\\AppData\\Local\\Programs\\julia-1.8.3\\share\\julia\\stdlib\\v1.8\\Pkg\\src\\Resolve\\graphtype.jl:1008 [inlined]\n",
      "  [3] simplify_graph!(graph::Pkg.Resolve.Graph, sources::Set{Int64}; clean_graph::Bool)\n",
      "    @ Pkg.Resolve C:\\Users\\Vlad\\AppData\\Local\\Programs\\julia-1.8.3\\share\\julia\\stdlib\\v1.8\\Pkg\\src\\Resolve\\graphtype.jl:1533\n",
      "  [4] simplify_graph! (repeats 2 times)\n",
      "    @ C:\\Users\\Vlad\\AppData\\Local\\Programs\\julia-1.8.3\\share\\julia\\stdlib\\v1.8\\Pkg\\src\\Resolve\\graphtype.jl:1532 [inlined]\n",
      "  [5] resolve_versions!(env::Pkg.Types.EnvCache, registries::Vector{Pkg.Registry.RegistryInstance}, pkgs::Vector{Pkg.Types.PackageSpec}, julia_version::VersionNumber)\n",
      "    @ Pkg.Operations C:\\Users\\Vlad\\AppData\\Local\\Programs\\julia-1.8.3\\share\\julia\\stdlib\\v1.8\\Pkg\\src\\Operations.jl:352\n",
      "  [6] targeted_resolve(env::Pkg.Types.EnvCache, registries::Vector{Pkg.Registry.RegistryInstance}, pkgs::Vector{Pkg.Types.PackageSpec}, preserve::Pkg.Types.PreserveLevel, julia_version::VersionNumber)\n",
      "    @ Pkg.Operations C:\\Users\\Vlad\\AppData\\Local\\Programs\\julia-1.8.3\\share\\julia\\stdlib\\v1.8\\Pkg\\src\\Operations.jl:1254\n",
      "  [7] tiered_resolve(env::Pkg.Types.EnvCache, registries::Vector{Pkg.Registry.RegistryInstance}, pkgs::Vector{Pkg.Types.PackageSpec}, julia_version::VersionNumber)\n",
      "    @ Pkg.Operations C:\\Users\\Vlad\\AppData\\Local\\Programs\\julia-1.8.3\\share\\julia\\stdlib\\v1.8\\Pkg\\src\\Operations.jl:1239\n",
      "  [8] _resolve(io::VSCodeServer.IJuliaCore.IJuliaStdio{Base.PipeEndpoint, typeof(VSCodeServer.io_send_callback)}, env::Pkg.Types.EnvCache, registries::Vector{Pkg.Registry.RegistryInstance}, pkgs::Vector{Pkg.Types.PackageSpec}, preserve::Pkg.Types.PreserveLevel, julia_version::VersionNumber)\n",
      "    @ Pkg.Operations C:\\Users\\Vlad\\AppData\\Local\\Programs\\julia-1.8.3\\share\\julia\\stdlib\\v1.8\\Pkg\\src\\Operations.jl:1260\n",
      "  [9] add(ctx::Pkg.Types.Context, pkgs::Vector{Pkg.Types.PackageSpec}, new_git::Set{Base.UUID}; preserve::Pkg.Types.PreserveLevel, platform::Base.BinaryPlatforms.Platform)\n",
      "    @ Pkg.Operations C:\\Users\\Vlad\\AppData\\Local\\Programs\\julia-1.8.3\\share\\julia\\stdlib\\v1.8\\Pkg\\src\\Operations.jl:1276\n",
      " [10] add(ctx::Pkg.Types.Context, pkgs::Vector{Pkg.Types.PackageSpec}; preserve::Pkg.Types.PreserveLevel, platform::Base.BinaryPlatforms.Platform, kwargs::Base.Pairs{Symbol, VSCodeServer.IJuliaCore.IJuliaStdio{Base.PipeEndpoint, typeof(VSCodeServer.io_send_callback)}, Tuple{Symbol}, NamedTuple{(:io,), Tuple{VSCodeServer.IJuliaCore.IJuliaStdio{Base.PipeEndpoint, typeof(VSCodeServer.io_send_callback)}}}})\n",
      "    @ Pkg.API C:\\Users\\Vlad\\AppData\\Local\\Programs\\julia-1.8.3\\share\\julia\\stdlib\\v1.8\\Pkg\\src\\API.jl:275\n",
      " [11] add(pkgs::Vector{Pkg.Types.PackageSpec}; io::VSCodeServer.IJuliaCore.IJuliaStdio{Base.PipeEndpoint, typeof(VSCodeServer.io_send_callback)}, kwargs::Base.Pairs{Symbol, Union{}, Tuple{}, NamedTuple{(), Tuple{}}})\n",
      "    @ Pkg.API C:\\Users\\Vlad\\AppData\\Local\\Programs\\julia-1.8.3\\share\\julia\\stdlib\\v1.8\\Pkg\\src\\API.jl:156\n",
      " [12] add(pkgs::Vector{Pkg.Types.PackageSpec})\n",
      "    @ Pkg.API C:\\Users\\Vlad\\AppData\\Local\\Programs\\julia-1.8.3\\share\\julia\\stdlib\\v1.8\\Pkg\\src\\API.jl:145\n",
      " [13] #add#26\n",
      "    @ C:\\Users\\Vlad\\AppData\\Local\\Programs\\julia-1.8.3\\share\\julia\\stdlib\\v1.8\\Pkg\\src\\API.jl:143 [inlined]\n",
      " [14] add(pkg::Pkg.Types.PackageSpec)\n",
      "    @ Pkg.API C:\\Users\\Vlad\\AppData\\Local\\Programs\\julia-1.8.3\\share\\julia\\stdlib\\v1.8\\Pkg\\src\\API.jl:143\n",
      " [15] top-level scope\n",
      "    @ c:\\Users\\Vlad\\Projects\\Dashboard\\prototype.ipynb:1"
     ]
    }
   ],
   "source": [
    "using Pkg; Pkg.Pkg.add(PackageSpec(name=\"Makie\", version=\"0.19.0\"))#update(\"Makie\")"
   ]
  },
  {
   "cell_type": "markdown",
   "metadata": {},
   "source": [
    "# 1. Topoplot with timeslider"
   ]
  },
  {
   "cell_type": "markdown",
   "metadata": {},
   "source": [
    "- put true timeline\n",
    "- faster interpolator?"
   ]
  },
  {
   "cell_type": "code",
   "execution_count": 141,
   "metadata": {},
   "outputs": [],
   "source": [
    "let \n",
    "    f = Figure(resolution = (1000, 900))\n",
    "    xs = range(-0.3, length=size(dat_e, 2), step=1 ./ 128) \n",
    "    sg = SliderGrid(f[2, 1],\n",
    "        (label=\"time\", range=xs, format = \"{:.3f} ms\", startvalue = 0),\n",
    "    )\n",
    "    time = sg.sliders[1].value\n",
    "    str = lift(t -> \"[$(round(t, digits = 3)) ms]\", time)\n",
    "    topo_slice = lift((t, data) -> mean(data[1:30, indexin(t, xs), :], dims=2)[:,1], time, dat_e)\n",
    "    topo_axis = Axis(f[1, 1], aspect = DataAspect(), title = \"Interactive topoplot\")\n",
    "    topo = eeg_topoplot!(topo_axis, topo_slice, # averaging all trial of 30 participants on Xth msec\n",
    "        raw.ch_names[1:30]; \n",
    "        positions=pos, # produced  automatically from ch_names\n",
    "        #interpolation=DelaunayMesh(),\n",
    "        enlarge=1.2,\n",
    "        markersize = 10,\n",
    "        lablesize = 10,\n",
    "        extrapolation=GeomExtrapolation(enlarge=1.3, geometry=Circle),\n",
    "        label_text=true) # aspect ratio, correlation of height and width\n",
    "    \n",
    "    # decrement/increment slider with left/right keys\n",
    "    on(events(f).keyboardbutton) do btn\n",
    "        if btn.action in (Keyboard.press, Keyboard.repeat)\n",
    "            if btn.key == Keyboard.left\n",
    "                set_close_to!(sg.sliders[1], time[] - 1)\n",
    "            elseif btn.key == Keyboard.right\n",
    "                set_close_to!(sg.sliders[1], time[] + 1)\n",
    "            end\n",
    "        end\n",
    "    end\n",
    "\n",
    "    text!(topo_axis, 1, 1, text = str,  align = (:center, :center))\n",
    "    xlims!(-0.2, 1.2)\n",
    "    ylims!(-0.2, 1.2)\n",
    "    hidedecorations!(topo_axis)\n",
    "    hidespines!(topo_axis) \n",
    "    f\n",
    "# animation\n",
    "#= \n",
    "framerate = 1\n",
    "timestamps = [-0.3, 0.0828125, 0.1609375, 0.2390625]\n",
    "record(f, \"animations/topoplot.gif\", timestamps;\n",
    "        framerate = framerate) do z\n",
    "    sg.sliders[1].value[] = z\n",
    "    time[] = z\n",
    "end =#\n",
    "end"
   ]
  },
  {
   "cell_type": "markdown",
   "metadata": {},
   "source": [
    "- increases the size of labels\n",
    "- change the position of labels"
   ]
  },
  {
   "cell_type": "markdown",
   "metadata": {},
   "source": [
    "# animation"
   ]
  },
  {
   "cell_type": "code",
   "execution_count": 149,
   "metadata": {},
   "outputs": [
    {
     "data": {
      "text/plain": [
       "\"animations/topoplot.gif\""
      ]
     },
     "metadata": {},
     "output_type": "display_data"
    }
   ],
   "source": [
    "f = Figure(resolution = (1000, 900))\n",
    "xs = range(-0.3, length=size(dat_e, 2), step=1 ./ 128) \n",
    "sg = SliderGrid(f[2, 1],\n",
    "    (label=\"time\", range=xs, format = \"{:.3f} ms\", startvalue = 0),\n",
    ")\n",
    "time = sg.sliders[1].value\n",
    "str = lift(t -> \"[$(round(t, digits = 3)) ms]\", time)\n",
    "topo_slice = lift((t, data) -> mean(data[1:30, indexin(t, xs), :], dims=2)[:,1], time, dat_e)\n",
    "topo_axis = Axis(f[1, 1], aspect = DataAspect(), title = \"Interactive topoplot\")\n",
    "topo = eeg_topoplot!(topo_axis, topo_slice, # averaging all trial of 30 participants on Xth msec\n",
    "    raw.ch_names[1:30]; \n",
    "    positions=pos, # produced  automatically from ch_names\n",
    "    #interpolation=DelaunayMesh(),\n",
    "    enlarge=1.2,\n",
    "    markersize = 10,\n",
    "    extrapolation=GeomExtrapolation(enlarge=1.3, geometry=Circle),\n",
    "    label_text=true) # aspect ratio, correlation of height and width\n",
    "\n",
    "text!(topo_axis, 1, 1, text = str,  align = (:center, :center))\n",
    "xlims!(-0.2, 1.2)\n",
    "ylims!(-0.2, 1.2)\n",
    "hidedecorations!(topo_axis)\n",
    "hidespines!(topo_axis) \n",
    "\n",
    "# animation\n",
    "framerate = 1\n",
    "timestamps = [-0.3, 0.0828125, 0.1609375, 0.2390625]\n",
    "record(f, \"animations/topoplot.gif\", timestamps;\n",
    "        framerate = framerate) do z\n",
    "    sg.sliders[1].value[] = z\n",
    "    time[] = z\n",
    "end"
   ]
  },
  {
   "cell_type": "markdown",
   "metadata": {},
   "source": [
    "# 2. Combination of butterflyplot and topoplot"
   ]
  },
  {
   "cell_type": "markdown",
   "metadata": {},
   "source": [
    "- we want a topoplot in a specific timepoints (at least one)\n",
    "    - with arrow toword the timepint?\n",
    "- what kind of interactivity is possible here?\n",
    "- slider? or froppping list?\n",
    "- red vline on x axis?\n",
    "- topoplot on the bottom or on top?"
   ]
  },
  {
   "cell_type": "code",
   "execution_count": 19,
   "metadata": {},
   "outputs": [
    {
     "data": {
      "text/plain": [
       "posToColor (generic function with 1 method)"
      ]
     },
     "metadata": {},
     "output_type": "display_data"
    }
   ],
   "source": [
    "function eegHeadMatrix(positions, center, radius)\n",
    "    oldCenter = mean(positions)\n",
    "    oldRadius, _ = findmax(x-> LinearAlgebra.norm(x .- oldCenter), positions)\n",
    "    radF = radius/oldRadius\n",
    "    return Makie.Mat4f(radF, 0, 0, 0,\n",
    "                       0, radF, 0, 0,\n",
    "                       0, 0, 1, 0,\n",
    "                       center[1]-oldCenter[1]*radF, center[2]-oldCenter[2]*radF, 0, 1)\n",
    "end\n",
    "\n",
    "struct NullInterpolator <: TopoPlots.Interpolator\n",
    "end\n",
    "\n",
    "function (ni::NullInterpolator)(\n",
    "        xrange::LinRange, yrange::LinRange,\n",
    "        positions::AbstractVector{<: Point{2}}, data::AbstractVector{<:Number})\n",
    "\n",
    "    return zeros(length(xrange),length(yrange))\n",
    "end\n",
    "\n",
    "function posToColor(pos)\n",
    "    cx = 0.5 - pos[1]\n",
    "    cy = 0.5 - pos[2]\n",
    "    rx = cx * 0.7071068 + cy * 0.7071068\n",
    "    ry = cx * -0.7071068 + cy * 0.7071068\n",
    "    b = 1.0 - (2*sqrt(cx^2+cy^2))^2\n",
    "    return RGB(0.5 - rx*1.414, 0.5 - ry*1.414, b)\n",
    "end"
   ]
  },
  {
   "cell_type": "code",
   "execution_count": 46,
   "metadata": {},
   "outputs": [
    {
     "data": {
      "text/plain": [
       "\"animations/butterfly_topoplot.gif\""
      ]
     },
     "metadata": {},
     "output_type": "display_data"
    }
   ],
   "source": [
    "# butterflyplot with interactiv topoplot\n",
    "let \n",
    "    f = Figure(backgroundcolor = RGBf(0.98, 0.98, 0.98), resolution = (1500, 700))\n",
    "\n",
    "    # interaction\n",
    "    xs = range(-0.3, length=size(dat_e, 2), step=1 ./ 128)  \n",
    "    sg = SliderGrid(f[4, 1:3],\n",
    "        (label=\"time\", range=xs, format = \"{:.3f} ms\", startvalue = 0),\n",
    "    )\n",
    "    time = sg.sliders[1].value\n",
    "    str = lift(t -> \"$(round(t, digits = 3)) ms\", time)\n",
    "    topo_slice = lift((t, data) -> mean(data[1:30, indexin(t, xs), :], dims=2)[:,1], time, dat_e)\n",
    "\n",
    "    # butterfly plot\n",
    "    ax = Axis(f[2:3, 1:3], xlabel = \"Time [s]\", ylabel = \"Voltage amplitude [µV]\")\n",
    "    N = 1:length(pos) #1:4 \n",
    "    hidespines!(ax, :t, :r) \n",
    "    GLMakie.xlims!(-0.3, 1.2)\n",
    "    hlines!(0, color = :gray, linewidth = 1)\n",
    "    vlines!(0, color = :gray, linewidth = 1)\n",
    "    times = range(-0.3, length=size(dat_e,2), step=1 ./ 128)\n",
    "    specialColors = ColorScheme(vcat(RGB(1,1,1.),[posToColor(pos) for pos in pos[N]]...))\n",
    "\n",
    "    for i in N\n",
    "        mean_trial = mean(dat_e[i,:,:], dims=2)[:,1]\n",
    "        lines!(times, mean_trial, color = specialColors[i])\n",
    "    end \n",
    "    hidedecorations!(ax, label = false, ticks = false, ticklabels = false) \n",
    "\n",
    "    # text\n",
    "    vlines!(time,  color = :red, linewidth = 1)\n",
    "    \n",
    "\n",
    "    # topoplot \n",
    "    topo_axis = Axis(f[1, 2], width = 178, height = 178, aspect = DataAspect())\n",
    "\tMakie.xlims!(low = -0.2, high = 1.2)\n",
    "\tMakie.ylims!(low = -0.2, high = 1.2)\n",
    "    topoMatrix = eegHeadMatrix(pos[N], (0.5, 0.5), 0.5)\n",
    "\n",
    "    topo = eeg_topoplot!(topo_axis, topo_slice, # averaging all trial of 30 participants on Xth msec\n",
    "        raw.ch_names[1:30]; \n",
    "        positions=pos, # produced  automatically from ch_names\n",
    "        #interpolation=DelaunayMesh(),\n",
    "        enlarge=1,\n",
    "        extrapolation=GeomExtrapolation(enlarge=1.0, geometry=Circle),\n",
    "        label_text=false)\n",
    "     \n",
    "    hidedecorations!(current_axis())\n",
    "    hidespines!(current_axis())\n",
    "\n",
    "    #a3 = Axis()\n",
    "    Label(f[1, 2], str,\n",
    "        textsize = 36,\n",
    "        #fontsize = 26,\n",
    "        font = :bold,\n",
    "        padding = (40, 500, 0, 0),\n",
    "        halign = :right)\n",
    "\n",
    "    #text!(time, 0, labelsize = 50, text = str,  align = (:center, :center))   \n",
    "    hidedecorations!(current_axis())\n",
    "    hidespines!(current_axis())\n",
    "    f\n",
    "\n",
    "    # animation\n",
    "    framerate = 1\n",
    "    timestamps = [ 0.0046875,    0.1609375,    0.3171875,    0.4734375,    0.6296875,    0.7859375,    0.9421875]\n",
    "\n",
    "    record(f, \"animations/butterfly_topoplot.gif\", timestamps;\n",
    "            framerate = framerate) do z\n",
    "        sg.sliders[1].value = z\n",
    "        time[] = z\n",
    "    end\n",
    "end"
   ]
  },
  {
   "cell_type": "markdown",
   "metadata": {},
   "source": [
    "# 3. Combination of butterflyplot and topoplot series"
   ]
  },
  {
   "cell_type": "markdown",
   "metadata": {},
   "source": [
    "- butterflyplot\n",
    "- topoplot series underneath \n",
    "- you can change number of topoplots and their range"
   ]
  },
  {
   "cell_type": "code",
   "execution_count": 15,
   "metadata": {},
   "outputs": [
    {
     "ename": "LoadError",
     "evalue": "LoadError: UndefVarError: @pipe not defined\nin expression starting at c:\\Users\\Vlad\\Projects\\Dashboard\\prototype.ipynb:2",
     "output_type": "error",
     "traceback": [
      "LoadError: UndefVarError: @pipe not defined\n",
      "in expression starting at c:\\Users\\Vlad\\Projects\\Dashboard\\prototype.ipynb:2\n"
     ]
    }
   ],
   "source": []
  },
  {
   "cell_type": "markdown",
   "metadata": {},
   "source": [
    "# 4. Buterfly plot with interactvie mode "
   ]
  },
  {
   "cell_type": "markdown",
   "metadata": {},
   "source": [
    "- two modes: ordinary and interactive\n",
    "- in interactvie mode: i click the timeserises and its related postion on topoplot shine red"
   ]
  },
  {
   "cell_type": "code",
   "execution_count": 51,
   "metadata": {},
   "outputs": [],
   "source": [
    "# classic butterflyplot\n",
    "let    \n",
    "    f = Figure(backgroundcolor = RGBf(0.98, 0.98, 0.98), resolution = (1500, 700))\n",
    "    ax = Axis(f[1:2,1], xlabel = \"Time [s]\", ylabel = \"Voltage amplitude [µV]\")\n",
    "    \n",
    "    N = 1:length(pos) #1:4 \n",
    "    hidespines!(ax, :t, :r) \n",
    "    GLMakie.xlims!(-0.3, 1.2)\n",
    "    hlines!(0, color = :gray, linewidth = 1)\n",
    "    vlines!(0, color = :gray, linewidth = 1)\n",
    "    times = range(-0.3, length=size(dat_e,2), step=1 ./ 128)\n",
    "    specialColors = ColorScheme(vcat(RGB(1,1,1.),[posToColor(pos) for pos in pos[N]]...))\n",
    "\n",
    "    for i in N\n",
    "        mean_trial = mean(dat_e[i,:,:],dims=2)[:,1]\n",
    "        lines!(times, mean_trial, color = specialColors[i])\n",
    "    end \n",
    "    hidedecorations!(ax, label = false, ticks = false, ticklabels = false) \n",
    "\n",
    "    topo_axis = Axis(f[1:2, 2], width = 78, height = 78, aspect = DataAspect())\n",
    "\n",
    "\tMakie.xlims!(low = -0.2, high = 1.2)\n",
    "\tMakie.ylims!(low = -0.2, high = 1.2)\n",
    "    topoMatrix = eegHeadMatrix(pos[N], (0.5, 0.5), 0.5)\n",
    "    \n",
    "    topo = eeg_topoplot!(topo_axis, N, # averaging all trial of 30 participants on Xth msec\n",
    "        raw.ch_names[1:30]; \n",
    "        positions=pos, # produced  automatically from ch_names\n",
    "        #interpolation=DelaunayMesh(),\n",
    "        enlarge=1,\n",
    "        extrapolation=GeomExtrapolation(enlarge=1.0, geometry=Circle),\n",
    "        label_text=false)\n",
    "    hidedecorations!(current_axis())\n",
    "    hidespines!(current_axis())\n",
    "    f\n",
    "end"
   ]
  }
 ],
 "metadata": {
  "kernelspec": {
   "display_name": "Julia 1.8.3",
   "language": "julia",
   "name": "julia-1.8"
  },
  "language_info": {
   "file_extension": ".jl",
   "mimetype": "application/julia",
   "name": "julia",
   "version": "1.8.3"
  },
  "orig_nbformat": 4,
  "vscode": {
   "interpreter": {
    "hash": "c813ac0529ad8aa3a599245ec8cf1c2004d94139568d269f9c5835e56f8fa2b6"
   }
  }
 },
 "nbformat": 4,
 "nbformat_minor": 2
}
