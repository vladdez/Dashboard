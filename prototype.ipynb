{
 "cells": [
  {
   "cell_type": "code",
   "execution_count": 1,
   "metadata": {},
   "outputs": [
    {
     "name": "stderr",
     "output_type": "stream",
     "text": [
      "\u001b[32m\u001b[1m  Activating\u001b[22m\u001b[39m project at `c:\\Users\\Vlad\\Projects\\Dashboard\\env`\n"
     ]
    }
   ],
   "source": [
    "using Pkg\n",
    "Pkg.activate(\"../Dashboard/env\")"
   ]
  },
  {
   "cell_type": "code",
   "execution_count": 3,
   "metadata": {},
   "outputs": [],
   "source": [
    "list = [\"Makie\", \"GLMakie\", \"PyMNE\", \"JLD2\", \"TopoPlots\", \"StatsBase\", \"Pipe\", \"ColorSchemes\", \"Colors\", \"LinearAlgebra\", \"AbstractPlotting\"]\n",
    " \n",
    "for i in list\n",
    "    import Pkg; Pkg.add(i);\n",
    "    print(i, '\\n')\n",
    "end \n",
    "#PS C:\\Users\\Vlad\\.julia\\conda\\3\\condabin> .\\conda.bat install mne"
   ]
  },
  {
   "cell_type": "code",
   "execution_count": 2,
   "metadata": {},
   "outputs": [],
   "source": [
    "using Colors\n",
    "using TopoPlots\n",
    "using StatsBase # mean/std\n",
    "using Pipe\n",
    "using ColorSchemes\n",
    "using LinearAlgebra\n",
    "using PyMNE\n",
    "using JLD2 # loading data\n",
    "using Makie\n",
    "using GLMakie\n"
   ]
  },
  {
   "cell_type": "code",
   "execution_count": 23,
   "metadata": {},
   "outputs": [],
   "source": [
    "using Conda\n",
    "Conda.PYTHONDIR\n",
    "Conda.ROOTENV\n",
    "using PythonCall"
   ]
  },
  {
   "cell_type": "code",
   "execution_count": 2,
   "metadata": {},
   "outputs": [],
   "source": [
    "using Pkg\n",
    "Pkg.build(\"PyMNE\")"
   ]
  },
  {
   "cell_type": "code",
   "execution_count": 13,
   "metadata": {},
   "outputs": [
    {
     "data": {
      "text/plain": [
       "false"
      ]
     },
     "metadata": {},
     "output_type": "display_data"
    }
   ],
   "source": [
    "Makie.inline!(false)"
   ]
  },
  {
   "cell_type": "code",
   "execution_count": 7,
   "metadata": {},
   "outputs": [
    {
     "name": "stderr",
     "output_type": "stream",
     "text": [
      "┌ Warning: type DataFrames.DataFrame does not exist in workspace; reconstructing\n",
      "└ @ JLD2 C:\\Users\\Vlad\\.julia\\packages\\JLD2\\1YVED\\src\\data\\reconstructing_datatypes.jl:495\n",
      "┌ Warning: type DataFrames.Index does not exist in workspace; reconstructing\n",
      "└ @ JLD2 C:\\Users\\Vlad\\.julia\\packages\\JLD2\\1YVED\\src\\data\\reconstructing_datatypes.jl:495\n"
     ]
    },
    {
     "ename": "UndefVarError",
     "evalue": "UndefVarError: get_info not defined",
     "output_type": "error",
     "traceback": [
      "UndefVarError: get_info not defined\n",
      "\n",
      "Stacktrace:\n",
      " [1] top-level scope\n",
      "   @ c:\\Users\\Vlad\\Projects\\Dashboard\\prototype.ipynb:13"
     ]
    }
   ],
   "source": [
    "begin # load  one single-subject dataset \n",
    "\t#p = \"../../../../store/users/ehinger/projects/unfoldjl_dev/dev/UnfoldMakie/artifact/sub-002_ses-N170_task-N170_eeg.set\"\n",
    "\tp = \"../EEG_plots/data/sub-002_ses-N170_task-N170_eeg.set\"\n",
    "    raw = PyMNE.io.read_raw_eeglab(p,preload=true)\n",
    "\t#p_all = \"../../../../store/users/ehinger/projects/unfoldjl_dev/data/erpcore-N170.jld2\"\n",
    "    p_all = \"../EEG_plots/data/erpcore-N170.jld2\"\n",
    "\tpresaved_data = load(p_all)\n",
    "\tdat_e = presaved_data[\"data_e_all\"].* 1e6\n",
    "\tevt_e = presaved_data[\"df_e_all\"]\n",
    "\tmon = PyMNE.channels.make_standard_montage(\"standard_1020\")\n",
    "\traw.set_channel_types(Dict(\"HEOG_left\"=>\"eog\",\"HEOG_right\"=>\"eog\",\"VEOG_lower\"=>\"eog\"))\n",
    "\traw.set_montage(mon,match_case=false)\n",
    "\tpos = PyMNE.channels.make_eeg_layout(get_info(raw)).pos\n",
    "\tpos = [Point2f(pos[k,1],pos[k,2]) for k in 1:size(pos,1)]\n",
    "end;"
   ]
  },
  {
   "cell_type": "code",
   "execution_count": 5,
   "metadata": {},
   "outputs": [
    {
     "name": "stdout",
     "output_type": "stream",
     "text": [
      "\u001b[32m\u001b[1mStatus\u001b[22m\u001b[39m `C:\\Users\\Vlad\\Projects\\Dashboard\\env\\Project.toml`\n",
      " \u001b[90m [cbdf2221] \u001b[39mAlgebraOfGraphics v0.6.13\n",
      " \u001b[90m [13f3f980] \u001b[39mCairoMakie v0.10.0\n",
      " \u001b[90m [35d6a980] \u001b[39mColorSchemes v3.20.0\n",
      " \u001b[90m [5ae59095] \u001b[39mColors v0.12.9\n",
      " \u001b[90m [34da2185] \u001b[39mCompat v4.5.0\n",
      " \u001b[90m [8f4d0f93] \u001b[39mConda v1.7.0\n",
      " \u001b[90m [8f03c58b] \u001b[39mEffects v0.1.7\n",
      " \u001b[90m [e9467ef8] \u001b[39mGLMakie v0.8.0\n",
      " \u001b[90m [5c1252a2] \u001b[39mGeometryBasics v0.4.5\n",
      " \u001b[90m [033835bb] \u001b[39mJLD2 v0.4.29\n",
      " \u001b[90m [ee78f7c6] \u001b[39mMakie v0.19.0\n",
      " \u001b[90m [19eb6ba3] \u001b[39mPacking v0.4.2\n",
      " \u001b[90m [b98c9c47] \u001b[39mPipe v1.3.0\n",
      " \u001b[90m [6c5003b2] \u001b[39mPyMNE v0.2.0\n",
      " \u001b[90m [6099a3de] \u001b[39mPythonCall v0.9.10\n",
      " \u001b[90m [1277b4bf] \u001b[39mShiftedArrays v2.0.0\n",
      " \u001b[90m [2913bbd2] \u001b[39mStatsBase v0.33.21\n",
      " \u001b[90m [2bdbdf9c] \u001b[39mTopoPlots v0.1.3\n",
      " \u001b[90m [181c99d8] \u001b[39mUnfold v0.3.13\n",
      " \u001b[90m [37e2e46d] \u001b[39mLinearAlgebra\n"
     ]
    }
   ],
   "source": [
    "using Pkg; Pkg.status()#add(PackageSpec(name=\"Makie\", version=\"0.19.0\"))#update(\"Makie\")"
   ]
  },
  {
   "cell_type": "markdown",
   "metadata": {},
   "source": [
    "# 1. Topoplot with timeslider"
   ]
  },
  {
   "cell_type": "markdown",
   "metadata": {},
   "source": [
    "- put true timeline\n",
    "- faster interpolator?"
   ]
  },
  {
   "cell_type": "code",
   "execution_count": 222,
   "metadata": {},
   "outputs": [],
   "source": [
    "let \n",
    "    f = Figure(resolution = (1000, 900))\n",
    "    xs = range(-0.3, length=size(dat_e, 2), step=1 ./ 128) \n",
    "    sg = SliderGrid(f[2, 1],\n",
    "        (label=\"time\", range=xs, format = \"{:.3f} ms\", startvalue = 0),\n",
    "    )\n",
    "    time = sg.sliders[1].value\n",
    "    str = lift(t -> \"[$(round(t, digits = 3)) ms]\", time)\n",
    "    topo_slice = lift((t, data) -> mean(data[1:30, indexin(t, xs), :], dims=2)[:,1], time, dat_e)\n",
    "    topo_axis = Axis(f[1, 1], aspect = DataAspect(), title = \"Interactive topoplot\")\n",
    "    topo = eeg_topoplot!(topo_axis, topo_slice, # averaging all trial of 30 participants on Xth msec\n",
    "        raw.ch_names[1:30]; \n",
    "        positions=pos, # produced  automatically from ch_names\n",
    "        #interpolation=DelaunayMesh(),\n",
    "        enlarge=1.2,\n",
    "        markersize = 10,\n",
    "        lablesize = 10,\n",
    "        extrapolation=GeomExtrapolation(enlarge=1.3, geometry=Circle),\n",
    "        label_text=true) # aspect ratio, correlation of height and width\n",
    "    \n",
    "    # decrement/increment slider with left/right keys\n",
    "    on(events(f).keyboardbutton) do btn\n",
    "        if btn.action in (Keyboard.press, Keyboard.repeat)\n",
    "            if btn.key == Keyboard.left\n",
    "                set_close_to!(sg.sliders[1], time[] - 1)\n",
    "            elseif btn.key == Keyboard.right\n",
    "                set_close_to!(sg.sliders[1], time[] + 1)\n",
    "            end\n",
    "        end\n",
    "    end\n",
    "\n",
    "    text!(topo_axis, 1, 1, text = str,  align = (:center, :center))\n",
    "    xlims!(-0.2, 1.2)\n",
    "    ylims!(-0.2, 1.2)\n",
    "    hidedecorations!(topo_axis)\n",
    "    hidespines!(topo_axis) \n",
    "    f\n",
    "# animation\n",
    "#= \n",
    "framerate = 1\n",
    "timestamps = [-0.3, 0.0828125, 0.1609375, 0.2390625]\n",
    "record(f, \"animations/topoplot.gif\", timestamps;\n",
    "        framerate = framerate) do z\n",
    "    sg.sliders[1].value[] = z\n",
    "    time[] = z\n",
    "end =#\n",
    "end"
   ]
  },
  {
   "cell_type": "code",
   "execution_count": null,
   "metadata": {},
   "outputs": [],
   "source": [
    "let \n",
    "    f = Figure(resolution = (1000, 900))\n",
    "    xs = range(-0.3, length=size(dat_e, 2), step=1 ./ 128) \n",
    "    sg = SliderGrid(f[2, 1],\n",
    "        (label=\"time\", range=xs, format = \"{:.3f} ms\", startvalue = 0),\n",
    "    )\n",
    "    time = sg.sliders[1].value\n",
    "    str = lift(t -> \"[$(round(t, digits = 3)) ms]\", time)\n",
    "    topo_slice = lift((t, data) -> mean(data[1:30, indexin(t, xs), :], dims=2)[:,1], time, dat_e)\n",
    "    topo_axis = Axis(f[1, 1], aspect = DataAspect(), title = \"Interactive topoplot\")\n",
    "    topo = eeg_topoplot!(topo_axis, topo_slice, # averaging all trial of 30 participants on Xth msec\n",
    "        raw.ch_names[1:30]; \n",
    "        positions=pos, # produced  automatically from ch_names\n",
    "        #interpolation=DelaunayMesh(),\n",
    "        enlarge=1.2,\n",
    "        markersize = 10,\n",
    "        lablesize = 10,\n",
    "        extrapolation=GeomExtrapolation(enlarge=1.3, geometry=Circle),\n",
    "        label_text=true) # aspect ratio, correlation of height and width\n",
    "    \n",
    "    # decrement/increment slider with left/right keys\n",
    "    on(events(f).keyboardbutton) do btn\n",
    "        if btn.action in (Keyboard.press, Keyboard.repeat)\n",
    "            if btn.key == Keyboard.left\n",
    "                set_close_to!(sg.sliders[1], time[] - 1)\n",
    "            elseif btn.key == Keyboard.right\n",
    "                set_close_to!(sg.sliders[1], time[] + 1)\n",
    "            end\n",
    "        end\n",
    "    end\n",
    "\n",
    "    text!(topo_axis, 1, 1, text = str,  align = (:center, :center))\n",
    "    xlims!(-0.2, 1.2)\n",
    "    ylims!(-0.2, 1.2)\n",
    "    hidedecorations!(topo_axis)\n",
    "    hidespines!(topo_axis) \n",
    "    f"
   ]
  },
  {
   "cell_type": "markdown",
   "metadata": {},
   "source": [
    "- increases the size of labels\n",
    "- change the position of labels"
   ]
  },
  {
   "cell_type": "code",
   "execution_count": 4,
   "metadata": {},
   "outputs": [],
   "source": [
    "let \n",
    "    dat_e, pos = TopoPlots.example_data()\n",
    "    f = Figure(resolution = (1000, 900))\n",
    "    xs = range(-0.3, length=size(dat_e, 2), step=1 ./ 128) \n",
    "\n",
    "    topo_axis = Axis(f[1, 1], aspect = DataAspect(), title = \"Interactive topoplot\")\n",
    "    topo_slice = dat_e[:,120,1]\n",
    "    #v = str(raw.ch_names)\n",
    "    topo = eeg_topoplot!(topo_axis, topo_slice, # averaging all trial of 30 participants on Xth msec\n",
    "        #v[1:30]; \n",
    "        positions=pos, # produced  automatically from ch_names\n",
    "        interpolation=NullInterpolator(),\n",
    "        enlarge=1.2,\n",
    "        markersize = 10,\n",
    "        extrapolation=GeomExtrapolation(enlarge=1.3, geometry=Circle),\n",
    "        label_text=true) # aspect ratio, correlation of height and width\n",
    "\n",
    "    xlims!(-0.2, 1.2)\n",
    "    ylims!(-0.2, 1.2)\n",
    "    hidedecorations!(topo_axis)\n",
    "    hidespines!(topo_axis) \n",
    "    f\n",
    "end"
   ]
  },
  {
   "cell_type": "code",
   "execution_count": 5,
   "metadata": {},
   "outputs": [],
   "source": [
    "let\n",
    "\n",
    "    dat_e,pos = TopoPlots.example_data()\n",
    "    f = Figure(resolution = (1000, 900))\n",
    "    xs = range(-0.3, length=size(dat_e, 2), step=1 ./ 128)\n",
    "    labels = string.(1:64)\n",
    "    topo_slice = dat_e[:,120,1]\n",
    "    topo_axis = Axis(f[1, 1], aspect = DataAspect(), title = \"Interactive topoplot\")\n",
    "    topo = eeg_topoplot!(topo_axis, topo_slice, # averaging all trial of 30 participants on Xth msec\n",
    "        labels;\n",
    "        positions=pos, # produced  automatically from ch_names\n",
    "        interpolation=NullInterpolator(),\n",
    "        enlarge=1.2,\n",
    "        markersize = 10,\n",
    "        extrapolation=GeomExtrapolation(enlarge=1.3, geometry=Circle),\n",
    "        label_text=true) # aspect ratio, correlation of height and width\n",
    "\n",
    "    xlims!(-0.2, 1.2)\n",
    "    ylims!(-0.2, 1.2)\n",
    "    hidedecorations!(topo_axis)\n",
    "    hidespines!(topo_axis)\n",
    "    f\n",
    "end"
   ]
  },
  {
   "cell_type": "code",
   "execution_count": 234,
   "metadata": {},
   "outputs": [
    {
     "data": {
      "text/plain": [
       "30-element Vector{Point{2, Float32}}:\n",
       " [0.34425032, 0.9384736]\n",
       " [0.29350892, 0.76728594]\n",
       " [0.17971344, 0.76714736]\n",
       " [0.26970726, 0.65690684]\n",
       " [0.2591214, 0.5451883]\n",
       " [0.19269812, 0.53699815]\n",
       " [0.2965354, 0.33236828]\n",
       " [0.19586267, 0.3166445]\n",
       " [0.12841484, 0.268648]\n",
       " [0.26475236, 0.23407465]\n",
       " ⋮\n",
       " [0.4660183, 0.5540192]\n",
       " [0.67508006, 0.5457554]\n",
       " [0.745902, 0.5383186]\n",
       " [0.6389228, 0.33225644]\n",
       " [0.73037195, 0.3169541]\n",
       " [0.7975908, 0.26319346]\n",
       " [0.66261953, 0.23306082]\n",
       " [0.582955, 0.25155059]\n",
       " [0.56741726, 0.18887134]"
      ]
     },
     "metadata": {},
     "output_type": "display_data"
    }
   ],
   "source": [
    "collect(raw.ch_names[1:30])"
   ]
  },
  {
   "cell_type": "markdown",
   "metadata": {},
   "source": [
    "# 2. Combination of butterflyplot and topoplot"
   ]
  },
  {
   "cell_type": "markdown",
   "metadata": {},
   "source": [
    "- we want a topoplot in a specific timepoints (at least one)\n",
    "    - with arrow toword the timepint?\n",
    "- what kind of interactivity is possible here?\n",
    "- slider? or froppping list?\n",
    "- red vline on x axis?\n",
    "- topoplot on the bottom or on top?"
   ]
  },
  {
   "cell_type": "code",
   "execution_count": 19,
   "metadata": {},
   "outputs": [
    {
     "data": {
      "text/plain": [
       "posToColor (generic function with 1 method)"
      ]
     },
     "metadata": {},
     "output_type": "display_data"
    }
   ],
   "source": [
    "function eegHeadMatrix(positions, center, radius)\n",
    "    oldCenter = mean(positions)\n",
    "    oldRadius, _ = findmax(x-> LinearAlgebra.norm(x .- oldCenter), positions)\n",
    "    radF = radius/oldRadius\n",
    "    return Makie.Mat4f(radF, 0, 0, 0,\n",
    "                       0, radF, 0, 0,\n",
    "                       0, 0, 1, 0,\n",
    "                       center[1]-oldCenter[1]*radF, center[2]-oldCenter[2]*radF, 0, 1)\n",
    "end\n",
    "\n",
    "struct NullInterpolator <: TopoPlots.Interpolator\n",
    "end\n",
    "\n",
    "function (ni::NullInterpolator)(\n",
    "        xrange::LinRange, yrange::LinRange,\n",
    "        positions::AbstractVector{<: Point{2}}, data::AbstractVector{<:Number})\n",
    "\n",
    "    return zeros(length(xrange),length(yrange))\n",
    "end\n",
    "\n",
    "function posToColor(pos)\n",
    "    cx = 0.5 - pos[1]\n",
    "    cy = 0.5 - pos[2]\n",
    "    rx = cx * 0.7071068 + cy * 0.7071068\n",
    "    ry = cx * -0.7071068 + cy * 0.7071068\n",
    "    b = 1.0 - (2*sqrt(cx^2+cy^2))^2\n",
    "    return RGB(0.5 - rx*1.414, 0.5 - ry*1.414, b)\n",
    "end"
   ]
  },
  {
   "cell_type": "code",
   "execution_count": 10,
   "metadata": {},
   "outputs": [],
   "source": []
  },
  {
   "cell_type": "code",
   "execution_count": 140,
   "metadata": {},
   "outputs": [],
   "source": [
    "# butterflyplot with interactiv topoplot\n",
    "let \n",
    "    f = Figure(backgroundcolor = RGBf(0.98, 0.98, 0.98), resolution = (1500, 700))\n",
    "\n",
    "    # interaction\n",
    "    xs = range(-0.3, length=size(dat_e, 2), step=1 ./ 128)  \n",
    "    sg = SliderGrid(f[4, 1:3],\n",
    "        (label=\"time\", range=xs, format = \"{:.3f} ms\", startvalue = 0),\n",
    "    )\n",
    "    time = sg.sliders[1].value\n",
    "    str = lift(t -> \"$(round(t, digits = 3)) ms\", time)\n",
    "    topo_slice = lift((t, data) -> mean(data[1:30, indexin(t, xs), :], dims=2)[:,1], time, dat_e)\n",
    "\n",
    "    # butterfly plot\n",
    "    ax = Axis(f[2:3, 1:3], xlabel = \"Time [s]\", ylabel = \"Voltage amplitude [µV]\")\n",
    "    N = 1:length(pos) #1:4 \n",
    "    hidespines!(ax, :t, :r) \n",
    "    GLMakie.xlims!(-0.3, 1.2)\n",
    "    hlines!(0, color = :gray, linewidth = 1)\n",
    "    vlines!(0, color = :gray, linewidth = 1)\n",
    "    times = range(-0.3, length=size(dat_e,2), step=1 ./ 128)\n",
    "    specialColors = ColorScheme(vcat(RGB(1,1,1.),[posToColor(pos) for pos in pos[N]]...))\n",
    "\n",
    "    for i in N\n",
    "        mean_trial = mean(dat_e[i,:,:], dims=2)[:,1]\n",
    "        lines!(times, mean_trial, color = specialColors[i])\n",
    "    end \n",
    "    hidedecorations!(ax, label = false, ticks = false, ticklabels = false) \n",
    "\n",
    "    # text\n",
    "    vlines!(time,  color = :red, linewidth = 1)\n",
    "    \n",
    "\n",
    "    # topoplot \n",
    "    topo_axis = Axis(f[1, 2], width = 178, height = 178, aspect = DataAspect())\n",
    "\tMakie.xlims!(low = -0.2, high = 1.2)\n",
    "\tMakie.ylims!(low = -0.2, high = 1.2)\n",
    "    topoMatrix = eegHeadMatrix(pos[N], (0.5, 0.5), 0.5)\n",
    "\n",
    "    topo = eeg_topoplot!(topo_axis, topo_slice, # averaging all trial of 30 participants on Xth msec\n",
    "        raw.ch_names[1:30]; \n",
    "        positions=pos, # produced  automatically from ch_names\n",
    "        #interpolation=DelaunayMesh(),\n",
    "        enlarge=1,\n",
    "        extrapolation=GeomExtrapolation(enlarge=1.0, geometry=Circle),\n",
    "        label_text=false)\n",
    "     \n",
    "    hidedecorations!(current_axis())\n",
    "    hidespines!(current_axis())\n",
    "\n",
    "    #a3 = Axis()\n",
    "    Label(f[1, 2], str,\n",
    "        textsize =36, # font?\n",
    "        font = :bold,\n",
    "        padding = (40, 500, 0, 0),\n",
    "        halign = :right)\n",
    "\n",
    "    #text!(time, 0, labelsize = 50, text = str,  align = (:center, :center))   \n",
    "    hidedecorations!(current_axis())\n",
    "    hidespines!(current_axis())\n",
    "    f\n",
    "\n",
    "#=     # animation\n",
    "    framerate = 1\n",
    "    timestamps = [ 0.0046875,    0.1609375,    0.3171875,    0.4734375,    0.6296875,    0.7859375,    0.9421875]\n",
    "\n",
    "    record(f, \"animations/butterfly_topoplot.gif\", timestamps;\n",
    "            framerate = framerate) do z\n",
    "        Makie.set_close_to!(sg.sliders[1], z)\n",
    "        time[] = z\n",
    "    end =#\n",
    "end"
   ]
  },
  {
   "cell_type": "markdown",
   "metadata": {},
   "source": [
    "# 3. Combination of butterflyplot and topoplot series"
   ]
  },
  {
   "cell_type": "markdown",
   "metadata": {},
   "source": [
    "- butterflyplot\n",
    "- topoplot series underneath \n",
    "- you can change number of topoplots and their range"
   ]
  },
  {
   "cell_type": "code",
   "execution_count": 15,
   "metadata": {},
   "outputs": [
    {
     "ename": "LoadError",
     "evalue": "LoadError: UndefVarError: @pipe not defined\nin expression starting at c:\\Users\\Vlad\\Projects\\Dashboard\\prototype.ipynb:2",
     "output_type": "error",
     "traceback": [
      "LoadError: UndefVarError: @pipe not defined\n",
      "in expression starting at c:\\Users\\Vlad\\Projects\\Dashboard\\prototype.ipynb:2\n"
     ]
    }
   ],
   "source": []
  },
  {
   "cell_type": "markdown",
   "metadata": {},
   "source": [
    "# 4. Buterfly plot with interactvie mode "
   ]
  },
  {
   "cell_type": "markdown",
   "metadata": {},
   "source": [
    "- two modes: ordinary and interactive\n",
    "- in interactvie mode: i click the timeserises and its related postion on topoplot shine red"
   ]
  },
  {
   "cell_type": "code",
   "execution_count": 168,
   "metadata": {},
   "outputs": [],
   "source": [
    "# toggle\n",
    "let    \n",
    "    f = Figure(backgroundcolor = RGBf(0.98, 0.98, 0.98), resolution = (1500, 700))\n",
    "    ax = Axis(f[1:2,1], xlabel = \"Time [s]\", ylabel = \"Voltage amplitude [µV]\")\n",
    "    \n",
    "    toggles = [Toggle(f, active = active) for active in [true]]\n",
    "    labels = [Label(f, lift(x -> x ? \"colored\" : \"not colored\", t.active))\n",
    "            for t in toggles]\n",
    "    f[1, 2] = grid!(hcat(toggles, labels), tellheight = false)\n",
    "\n",
    "    N = 1:length(pos) #1:4 \n",
    "    hidespines!(ax, :t, :r) \n",
    "    GLMakie.xlims!(-0.3, 1.2)\n",
    "    hlines!(0, color = :gray, linewidth = 1)\n",
    "    vlines!(0, color = :gray, linewidth = 1)\n",
    "    times = range(-0.3, length=size(dat_e,2), step=1 ./ 128)\n",
    "    specialColors = ColorScheme(vcat(RGB(1,1,1.),[posToColor(pos) for pos in pos[N]]...))\n",
    "\n",
    "    for i in N\n",
    "        mean_trial = mean(dat_e[i,:,:],dims=2)[:,1]\n",
    "        line1 = lines!(times, mean_trial, color = \"black\")\n",
    "        line2 = lines!(times, mean_trial, color = specialColors[i])\n",
    "        connect!(line2.visible, toggles[1].active)\n",
    "    end \n",
    "    hidedecorations!(ax, label = false, ticks = false, ticklabels = false) \n",
    "\n",
    "    topo_axis = Axis(f[1:2, 2], width = 178, height = 178, aspect = DataAspect())\n",
    "\n",
    "\tMakie.xlims!(low = -0.2, high = 1.2)\n",
    "\tMakie.ylims!(low = -0.2, high = 1.2)\n",
    "    topoMatrix = eegHeadMatrix(pos[N], (0.5, 0.5), 0.5)\n",
    "    \n",
    "    topo = eeg_topoplot!(topo_axis, N, # averaging all trial of 30 participants on Xth msec\n",
    "        raw.ch_names[1:30]; \n",
    "        positions=pos, # produced  automatically from ch_names\n",
    "        #interpolation=NullInterpolator(),\n",
    "        enlarge=1,\n",
    "        #extrapolation=GeomExtrapolation(enlarge=1.0, geometry=Circle),\n",
    "        colorrange = (0, length(pos)), # add the 0 for the white-first color\n",
    "        colormap = specialColors,\n",
    "        label_text=false)\n",
    "    hidedecorations!(current_axis())\n",
    "    hidespines!(current_axis())\n",
    "    f\n",
    "end"
   ]
  },
  {
   "cell_type": "code",
   "execution_count": 227,
   "metadata": {},
   "outputs": [],
   "source": [
    "# toggle\n",
    "let    \n",
    "    f = Figure(backgroundcolor = RGBf(0.98, 0.98, 0.98), resolution = (1500, 700))\n",
    "    ax = Axis(f[1:3, 1], xlabel = \"Time [s]\", ylabel = \"Voltage amplitude [µV]\")\n",
    "    \n",
    "    toggles = [Toggle(f, active = active) for active in [true]]\n",
    "    labels = [Label(f, lift(x -> x ? \"colored\" : \"not colored\", t.active))\n",
    "            for t in toggles]\n",
    "    f[1, 2] = grid!(hcat(toggles, labels), tellheight = false)\n",
    "    tb = Textbox(f[3, 2], placeholder = \"Enter an integer\", validator = Int64, tellwidth = false)\n",
    "    channel = Observable(1.0)\n",
    "    str = lift(t -> \"[$(Int64(t)) ms]\", channel)\n",
    "    #X = lift(c -> Int64(c), channel)\n",
    "\n",
    "    on(tb.stored_string) do s\n",
    "        channel[] = parse(Float64, s)\n",
    "    end\n",
    "\n",
    "    N = 1:length(pos) #1:4 \n",
    "    hidespines!(ax, :t, :r) \n",
    "    GLMakie.xlims!(-0.3, 1.2)\n",
    "    hlines!(0, color = :gray, linewidth = 1)\n",
    "    vlines!(0, color = :gray, linewidth = 1)\n",
    "    times = range(-0.3, length=size(dat_e,2), step=1 ./ 128)\n",
    "    specialColors = ColorScheme(vcat(RGB(1,1,1.),[posToColor(pos) for pos in pos[N]]...))\n",
    "\n",
    "    for i in N\n",
    "        mean_trial = mean(dat_e[i,:,:],dims=2)[:,1]\n",
    "        if i != lift(c -> Int64(c), channel)[]\n",
    "            line1 = lines!(times, mean_trial, color = \"black\")\n",
    "        else\n",
    "            #text!(ax, 1, 5, text = str,  align = (:center, :center))\n",
    "            line1 = lines!(times, mean_trial, overdraw = true, color = \"red\")\n",
    "        end\n",
    "        line2 = lines!(times, mean_trial, color = specialColors[i])\n",
    "        connect!(line2.visible, toggles[1].active)\n",
    "    end \n",
    "    hidedecorations!(ax, label = false, ticks = false, ticklabels = false) \n",
    "\n",
    "    topo_axis = Axis(f[2, 2], width = 178, height = 178, aspect = DataAspect())\n",
    "\n",
    "\tMakie.xlims!(low = -0.2, high = 1.2)\n",
    "\tMakie.ylims!(low = -0.2, high = 1.2)\n",
    "    topoMatrix = eegHeadMatrix(pos[N], (0.5, 0.5), 0.5)\n",
    "    \n",
    "    topo = eeg_topoplot!(topo_axis, N, # averaging all trial of 30 participants on Xth msec\n",
    "        raw.ch_names[1:30]; \n",
    "        positions=pos, # produced  automatically from ch_names\n",
    "        #interpolation=NullInterpolator(),\n",
    "        enlarge=1,\n",
    "        #extrapolation=GeomExtrapolation(enlarge=1.0, geometry=Circle),\n",
    "        colorrange = (0, length(pos)), # add the 0 for the white-first color\n",
    "        colormap = specialColors,\n",
    "        label_text=false)\n",
    "    hidedecorations!(current_axis())\n",
    "    hidespines!(current_axis())\n",
    "    text!(topo, 1, 1, text = str,  align = (:center, :center))\n",
    "   \n",
    "    f\n",
    "end"
   ]
  }
 ],
 "metadata": {
  "kernelspec": {
   "display_name": "Julia 1.8.3",
   "language": "julia",
   "name": "julia-1.8"
  },
  "language_info": {
   "file_extension": ".jl",
   "mimetype": "application/julia",
   "name": "julia",
   "version": "1.8.3"
  },
  "orig_nbformat": 4,
  "vscode": {
   "interpreter": {
    "hash": "c813ac0529ad8aa3a599245ec8cf1c2004d94139568d269f9c5835e56f8fa2b6"
   }
  }
 },
 "nbformat": 4,
 "nbformat_minor": 2
}
