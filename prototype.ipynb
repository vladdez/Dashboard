{
 "cells": [
  {
   "cell_type": "code",
   "execution_count": 1,
   "metadata": {},
   "outputs": [
    {
     "name": "stderr",
     "output_type": "stream",
     "text": [
      "\u001b[32m\u001b[1m  Activating\u001b[22m\u001b[39m project at `c:\\Users\\Vlad\\Projects\\Dashboard\\env`\n"
     ]
    }
   ],
   "source": [
    "using Pkg\n",
    "Pkg.activate(\"../Dashboard/env\")"
   ]
  },
  {
   "cell_type": "code",
   "execution_count": 3,
   "metadata": {},
   "outputs": [],
   "source": [
    "list = [\"Makie\", \"GLMakie\", \"PyMNE\", \"JLD2\", \"TopoPlots\", \"StatsBase\", \"Pipe\", \"ColorSchemes\", \"Colors\", \"LinearAlgebra\", \"AbstractPlotting\"]\n",
    " \n",
    "for i in list\n",
    "    import Pkg; Pkg.add(i);\n",
    "    print(i, '\\n')\n",
    "end "
   ]
  },
  {
   "cell_type": "code",
   "execution_count": 2,
   "metadata": {},
   "outputs": [],
   "source": [
    "using Makie\n",
    "using GLMakie\n",
    "using PyMNE\n",
    "using JLD2 # loading data\n",
    "using TopoPlots\n",
    "using StatsBase # mean/std\n",
    "using Pipe\n",
    "using ColorSchemes\n",
    "using Colors\n",
    "using LinearAlgebra\n"
   ]
  },
  {
   "cell_type": "code",
   "execution_count": 13,
   "metadata": {},
   "outputs": [
    {
     "data": {
      "text/plain": [
       "false"
      ]
     },
     "metadata": {},
     "output_type": "display_data"
    }
   ],
   "source": [
    "Makie.inline!(false)"
   ]
  },
  {
   "cell_type": "code",
   "execution_count": 3,
   "metadata": {},
   "outputs": [
    {
     "name": "stderr",
     "output_type": "stream",
     "text": [
      "┌ Warning: type DataFrames.DataFrame does not exist in workspace; reconstructing\n",
      "└ @ JLD2 C:\\Users\\Vlad\\.julia\\packages\\JLD2\\1YVED\\src\\data\\reconstructing_datatypes.jl:495\n",
      "┌ Warning: type DataFrames.Index does not exist in workspace; reconstructing\n",
      "└ @ JLD2 C:\\Users\\Vlad\\.julia\\packages\\JLD2\\1YVED\\src\\data\\reconstructing_datatypes.jl:495\n"
     ]
    }
   ],
   "source": [
    "begin # load  one single-subject dataset \n",
    "\t#p = \"../../../../store/users/ehinger/projects/unfoldjl_dev/dev/UnfoldMakie/artifact/sub-002_ses-N170_task-N170_eeg.set\"\n",
    "\tp = \"../EEG_plots/data/sub-002_ses-N170_task-N170_eeg.set\"\n",
    "    raw = PyMNE.io.read_raw_eeglab(p,preload=true)\n",
    "\t#p_all = \"../../../../store/users/ehinger/projects/unfoldjl_dev/data/erpcore-N170.jld2\"\n",
    "    p_all = \"../EEG_plots/data/erpcore-N170.jld2\"\n",
    "\tpresaved_data = load(p_all)\n",
    "\tdat_e = presaved_data[\"data_e_all\"].* 1e6\n",
    "\tevt_e = presaved_data[\"df_e_all\"]\n",
    "\tmon = PyMNE.channels.make_standard_montage(\"standard_1020\")\n",
    "\traw.set_channel_types(Dict(\"HEOG_left\"=>\"eog\",\"HEOG_right\"=>\"eog\",\"VEOG_lower\"=>\"eog\"))\n",
    "\traw.set_montage(mon,match_case=false)\n",
    "\tpos = PyMNE.channels.make_eeg_layout(get_info(raw)).pos\n",
    "\tpos = [Point2f(pos[k,1],pos[k,2]) for k in 1:size(pos,1)]\n",
    "end;"
   ]
  },
  {
   "cell_type": "code",
   "execution_count": 62,
   "metadata": {},
   "outputs": [
    {
     "name": "stderr",
     "output_type": "stream",
     "text": [
      "\u001b[32m\u001b[1m   Resolving\u001b[22m\u001b[39m package versions..."
     ]
    },
    {
     "name": "stderr",
     "output_type": "stream",
     "text": [
      "\n"
     ]
    },
    {
     "name": "stderr",
     "output_type": "stream",
     "text": [
      "\u001b[32m\u001b[1m   Installed\u001b[22m\u001b[39m AlgebraOfGraphics ─ v0.6.13\n"
     ]
    },
    {
     "name": "stderr",
     "output_type": "stream",
     "text": [
      "\u001b[32m\u001b[1m    Updating\u001b[22m\u001b[39m `C:\\Users\\Vlad\\Projects\\Dashboard\\env\\Project.toml`\n",
      " \u001b[90m [cbdf2221] \u001b[39m\u001b[93m↑ AlgebraOfGraphics v0.6.12 ⇒ v0.6.13\u001b[39m\n",
      " \u001b[90m [13f3f980] \u001b[39m\u001b[93m↑ CairoMakie v0.9.4 ⇒ v0.10.0\u001b[39m\n",
      " \u001b[90m [e9467ef8] \u001b[39m\u001b[93m↑ GLMakie v0.7.4 ⇒ v0.8.0\u001b[39m\n",
      " \u001b[90m [ee78f7c6] \u001b[39m\u001b[93m↑ Makie v0.18.4 ⇒ v0.19.0\u001b[39m\n",
      "\u001b[32m\u001b[1m    Updating\u001b[22m\u001b[39m `C:\\Users\\Vlad\\Projects\\Dashboard\\env\\Manifest.toml`"
     ]
    },
    {
     "name": "stderr",
     "output_type": "stream",
     "text": [
      "\n",
      " \u001b[90m [cbdf2221] \u001b[39m\u001b[93m↑ AlgebraOfGraphics v0.6.12 ⇒ v0.6.13\u001b[39m\n",
      " \u001b[90m [13f3f980] \u001b[39m\u001b[93m↑ CairoMakie v0.9.4 ⇒ v0.10.0\u001b[39m\n",
      " \u001b[90m [e9467ef8] \u001b[39m\u001b[93m↑ GLMakie v0.7.4 ⇒ v0.8.0\u001b[39m\n",
      " \u001b[90m [ee78f7c6] \u001b[39m\u001b[93m↑ Makie v0.18.4 ⇒ v0.19.0\u001b[39m\n",
      " \u001b[90m [20f20a25] \u001b[39m\u001b[93m↑ MakieCore v0.5.2 ⇒ v0.6.0\u001b[39m"
     ]
    },
    {
     "name": "stderr",
     "output_type": "stream",
     "text": [
      "\n",
      "\u001b[32m\u001b[1mPrecompiling\u001b[22m\u001b[39m "
     ]
    },
    {
     "name": "stderr",
     "output_type": "stream",
     "text": [
      "project...\n"
     ]
    },
    {
     "name": "stderr",
     "output_type": "stream",
     "text": [
      "\u001b[33m  ✓ \u001b[39m\u001b[90mMakieCore\u001b[39m\n"
     ]
    },
    {
     "name": "stderr",
     "output_type": "stream",
     "text": [
      "\u001b[33m  ✓ \u001b[39mMakie\n"
     ]
    },
    {
     "name": "stderr",
     "output_type": "stream",
     "text": [
      "\u001b[32m  ✓ \u001b[39mAlgebraOfGraphics\n"
     ]
    },
    {
     "name": "stderr",
     "output_type": "stream",
     "text": [
      "\u001b[33m  ✓ \u001b[39mTopoPlots\n"
     ]
    },
    {
     "name": "stderr",
     "output_type": "stream",
     "text": [
      "\u001b[32m  ✓ \u001b[39mCairoMakie\n"
     ]
    },
    {
     "name": "stderr",
     "output_type": "stream",
     "text": [
      "\u001b[33m  ✓ \u001b[39mGLMakie\n",
      "  6 dependencies successfully precompiled in 126 seconds. 281 already precompiled.\n",
      "  \u001b[33m4\u001b[39m dependencies precompiled but different versions are currently loaded. Restart julia to access the new versions\n"
     ]
    }
   ],
   "source": [
    "using Pkg; Pkg.Pkg.add(PackageSpec(name=\"Makie\", version=\"0.19.0\"))#update(\"Makie\")"
   ]
  },
  {
   "cell_type": "markdown",
   "metadata": {},
   "source": [
    "# 1. Topoplot with timeslider"
   ]
  },
  {
   "cell_type": "markdown",
   "metadata": {},
   "source": [
    "- put true timeline\n",
    "- faster interpolator?"
   ]
  },
  {
   "cell_type": "code",
   "execution_count": 141,
   "metadata": {},
   "outputs": [],
   "source": [
    "let \n",
    "    f = Figure(resolution = (1000, 900))\n",
    "    xs = range(-0.3, length=size(dat_e, 2), step=1 ./ 128) \n",
    "    sg = SliderGrid(f[2, 1],\n",
    "        (label=\"time\", range=xs, format = \"{:.3f} ms\", startvalue = 0),\n",
    "    )\n",
    "    time = sg.sliders[1].value\n",
    "    str = lift(t -> \"[$(round(t, digits = 3)) ms]\", time)\n",
    "    topo_slice = lift((t, data) -> mean(data[1:30, indexin(t, xs), :], dims=2)[:,1], time, dat_e)\n",
    "    topo_axis = Axis(f[1, 1], aspect = DataAspect(), title = \"Interactive topoplot\")\n",
    "    topo = eeg_topoplot!(topo_axis, topo_slice, # averaging all trial of 30 participants on Xth msec\n",
    "        raw.ch_names[1:30]; \n",
    "        positions=pos, # produced  automatically from ch_names\n",
    "        #interpolation=DelaunayMesh(),\n",
    "        enlarge=1.2,\n",
    "        markersize = 10,\n",
    "        lablesize = 10,\n",
    "        extrapolation=GeomExtrapolation(enlarge=1.3, geometry=Circle),\n",
    "        label_text=true) # aspect ratio, correlation of height and width\n",
    "    \n",
    "    # decrement/increment slider with left/right keys\n",
    "    on(events(f).keyboardbutton) do btn\n",
    "        if btn.action in (Keyboard.press, Keyboard.repeat)\n",
    "            if btn.key == Keyboard.left\n",
    "                set_close_to!(sg.sliders[1], time[] - 1)\n",
    "            elseif btn.key == Keyboard.right\n",
    "                set_close_to!(sg.sliders[1], time[] + 1)\n",
    "            end\n",
    "        end\n",
    "    end\n",
    "\n",
    "    text!(topo_axis, 1, 1, text = str,  align = (:center, :center))\n",
    "    xlims!(-0.2, 1.2)\n",
    "    ylims!(-0.2, 1.2)\n",
    "    hidedecorations!(topo_axis)\n",
    "    hidespines!(topo_axis) \n",
    "    f\n",
    "# animation\n",
    "#= \n",
    "framerate = 1\n",
    "timestamps = [-0.3, 0.0828125, 0.1609375, 0.2390625]\n",
    "record(f, \"animations/topoplot.gif\", timestamps;\n",
    "        framerate = framerate) do z\n",
    "    sg.sliders[1].value[] = z\n",
    "    time[] = z\n",
    "end =#\n",
    "end"
   ]
  },
  {
   "cell_type": "markdown",
   "metadata": {},
   "source": [
    "- increases the size of labels\n",
    "- change the position of labels"
   ]
  },
  {
   "cell_type": "markdown",
   "metadata": {},
   "source": [
    "# animation"
   ]
  },
  {
   "cell_type": "code",
   "execution_count": 54,
   "metadata": {},
   "outputs": [
    {
     "data": {
      "text/plain": [
       "\"animations/topoplot.gif\""
      ]
     },
     "metadata": {},
     "output_type": "display_data"
    }
   ],
   "source": [
    "f = Figure(resolution = (1000, 900))\n",
    "xs = range(-0.3, length=size(dat_e, 2), step=1 ./ 128) \n",
    "sg = SliderGrid(f[2, 1],\n",
    "    (label=\"time\", range=xs, format = \"{:.3f} ms\", startvalue = 0),\n",
    ")\n",
    "time = sg.sliders[1].value\n",
    "str = lift(t -> \"[$(round(t, digits = 3)) ms]\", time)\n",
    "topo_slice = lift((t, data) -> mean(data[1:30, indexin(t, xs), :], dims=2)[:,1], time, dat_e)\n",
    "topo_axis = Axis(f[1, 1], aspect = DataAspect(), title = \"Interactive topoplot\")\n",
    "topo = eeg_topoplot!(topo_axis, topo_slice, # averaging all trial of 30 participants on Xth msec\n",
    "    raw.ch_names[1:30]; \n",
    "    positions=pos, # produced  automatically from ch_names\n",
    "    #interpolation=DelaunayMesh(),\n",
    "    enlarge=1.2,\n",
    "    markersize = 10,\n",
    "    extrapolation=GeomExtrapolation(enlarge=1.3, geometry=Circle),\n",
    "    label_text=true) # aspect ratio, correlation of height and width\n",
    "\n",
    "text!(topo_axis, 1, 1, text = str,  align = (:center, :center))\n",
    "xlims!(-0.2, 1.2)\n",
    "ylims!(-0.2, 1.2)\n",
    "hidedecorations!(topo_axis)\n",
    "hidespines!(topo_axis) \n",
    "\n",
    "# animation\n",
    "framerate = 1\n",
    "timestamps = [ 0.0046875,    0.1609375,    0.3171875,    0.4734375,    0.6296875,    0.7859375,    0.9421875]\n",
    "record(f, \"animations/topoplot.gif\", timestamps;\n",
    "        framerate = framerate) do z\n",
    "    Makie.set_close_to!(sg.sliders[1], z)\n",
    "    time[] = z\n",
    "end"
   ]
  },
  {
   "cell_type": "markdown",
   "metadata": {},
   "source": [
    "# 2. Combination of butterflyplot and topoplot"
   ]
  },
  {
   "cell_type": "markdown",
   "metadata": {},
   "source": [
    "- we want a topoplot in a specific timepoints (at least one)\n",
    "    - with arrow toword the timepint?\n",
    "- what kind of interactivity is possible here?\n",
    "- slider? or froppping list?\n",
    "- red vline on x axis?\n",
    "- topoplot on the bottom or on top?"
   ]
  },
  {
   "cell_type": "code",
   "execution_count": 19,
   "metadata": {},
   "outputs": [
    {
     "data": {
      "text/plain": [
       "posToColor (generic function with 1 method)"
      ]
     },
     "metadata": {},
     "output_type": "display_data"
    }
   ],
   "source": [
    "function eegHeadMatrix(positions, center, radius)\n",
    "    oldCenter = mean(positions)\n",
    "    oldRadius, _ = findmax(x-> LinearAlgebra.norm(x .- oldCenter), positions)\n",
    "    radF = radius/oldRadius\n",
    "    return Makie.Mat4f(radF, 0, 0, 0,\n",
    "                       0, radF, 0, 0,\n",
    "                       0, 0, 1, 0,\n",
    "                       center[1]-oldCenter[1]*radF, center[2]-oldCenter[2]*radF, 0, 1)\n",
    "end\n",
    "\n",
    "struct NullInterpolator <: TopoPlots.Interpolator\n",
    "end\n",
    "\n",
    "function (ni::NullInterpolator)(\n",
    "        xrange::LinRange, yrange::LinRange,\n",
    "        positions::AbstractVector{<: Point{2}}, data::AbstractVector{<:Number})\n",
    "\n",
    "    return zeros(length(xrange),length(yrange))\n",
    "end\n",
    "\n",
    "function posToColor(pos)\n",
    "    cx = 0.5 - pos[1]\n",
    "    cy = 0.5 - pos[2]\n",
    "    rx = cx * 0.7071068 + cy * 0.7071068\n",
    "    ry = cx * -0.7071068 + cy * 0.7071068\n",
    "    b = 1.0 - (2*sqrt(cx^2+cy^2))^2\n",
    "    return RGB(0.5 - rx*1.414, 0.5 - ry*1.414, b)\n",
    "end"
   ]
  },
  {
   "cell_type": "code",
   "execution_count": 10,
   "metadata": {},
   "outputs": [],
   "source": []
  },
  {
   "cell_type": "code",
   "execution_count": 140,
   "metadata": {},
   "outputs": [],
   "source": [
    "# butterflyplot with interactiv topoplot\n",
    "let \n",
    "    f = Figure(backgroundcolor = RGBf(0.98, 0.98, 0.98), resolution = (1500, 700))\n",
    "\n",
    "    # interaction\n",
    "    xs = range(-0.3, length=size(dat_e, 2), step=1 ./ 128)  \n",
    "    sg = SliderGrid(f[4, 1:3],\n",
    "        (label=\"time\", range=xs, format = \"{:.3f} ms\", startvalue = 0),\n",
    "    )\n",
    "    time = sg.sliders[1].value\n",
    "    str = lift(t -> \"$(round(t, digits = 3)) ms\", time)\n",
    "    topo_slice = lift((t, data) -> mean(data[1:30, indexin(t, xs), :], dims=2)[:,1], time, dat_e)\n",
    "\n",
    "    # butterfly plot\n",
    "    ax = Axis(f[2:3, 1:3], xlabel = \"Time [s]\", ylabel = \"Voltage amplitude [µV]\")\n",
    "    N = 1:length(pos) #1:4 \n",
    "    hidespines!(ax, :t, :r) \n",
    "    GLMakie.xlims!(-0.3, 1.2)\n",
    "    hlines!(0, color = :gray, linewidth = 1)\n",
    "    vlines!(0, color = :gray, linewidth = 1)\n",
    "    times = range(-0.3, length=size(dat_e,2), step=1 ./ 128)\n",
    "    specialColors = ColorScheme(vcat(RGB(1,1,1.),[posToColor(pos) for pos in pos[N]]...))\n",
    "\n",
    "    for i in N\n",
    "        mean_trial = mean(dat_e[i,:,:], dims=2)[:,1]\n",
    "        lines!(times, mean_trial, color = specialColors[i])\n",
    "    end \n",
    "    hidedecorations!(ax, label = false, ticks = false, ticklabels = false) \n",
    "\n",
    "    # text\n",
    "    vlines!(time,  color = :red, linewidth = 1)\n",
    "    \n",
    "\n",
    "    # topoplot \n",
    "    topo_axis = Axis(f[1, 2], width = 178, height = 178, aspect = DataAspect())\n",
    "\tMakie.xlims!(low = -0.2, high = 1.2)\n",
    "\tMakie.ylims!(low = -0.2, high = 1.2)\n",
    "    topoMatrix = eegHeadMatrix(pos[N], (0.5, 0.5), 0.5)\n",
    "\n",
    "    topo = eeg_topoplot!(topo_axis, topo_slice, # averaging all trial of 30 participants on Xth msec\n",
    "        raw.ch_names[1:30]; \n",
    "        positions=pos, # produced  automatically from ch_names\n",
    "        #interpolation=DelaunayMesh(),\n",
    "        enlarge=1,\n",
    "        extrapolation=GeomExtrapolation(enlarge=1.0, geometry=Circle),\n",
    "        label_text=false)\n",
    "     \n",
    "    hidedecorations!(current_axis())\n",
    "    hidespines!(current_axis())\n",
    "\n",
    "    #a3 = Axis()\n",
    "    Label(f[1, 2], str,\n",
    "        textsize =36, # font?\n",
    "        font = :bold,\n",
    "        padding = (40, 500, 0, 0),\n",
    "        halign = :right)\n",
    "\n",
    "    #text!(time, 0, labelsize = 50, text = str,  align = (:center, :center))   \n",
    "    hidedecorations!(current_axis())\n",
    "    hidespines!(current_axis())\n",
    "    f\n",
    "\n",
    "#=     # animation\n",
    "    framerate = 1\n",
    "    timestamps = [ 0.0046875,    0.1609375,    0.3171875,    0.4734375,    0.6296875,    0.7859375,    0.9421875]\n",
    "\n",
    "    record(f, \"animations/butterfly_topoplot.gif\", timestamps;\n",
    "            framerate = framerate) do z\n",
    "        Makie.set_close_to!(sg.sliders[1], z)\n",
    "        time[] = z\n",
    "    end =#\n",
    "end"
   ]
  },
  {
   "cell_type": "markdown",
   "metadata": {},
   "source": [
    "# 3. Combination of butterflyplot and topoplot series"
   ]
  },
  {
   "cell_type": "markdown",
   "metadata": {},
   "source": [
    "- butterflyplot\n",
    "- topoplot series underneath \n",
    "- you can change number of topoplots and their range"
   ]
  },
  {
   "cell_type": "code",
   "execution_count": 15,
   "metadata": {},
   "outputs": [
    {
     "ename": "LoadError",
     "evalue": "LoadError: UndefVarError: @pipe not defined\nin expression starting at c:\\Users\\Vlad\\Projects\\Dashboard\\prototype.ipynb:2",
     "output_type": "error",
     "traceback": [
      "LoadError: UndefVarError: @pipe not defined\n",
      "in expression starting at c:\\Users\\Vlad\\Projects\\Dashboard\\prototype.ipynb:2\n"
     ]
    }
   ],
   "source": []
  },
  {
   "cell_type": "markdown",
   "metadata": {},
   "source": [
    "# 4. Buterfly plot with interactvie mode "
   ]
  },
  {
   "cell_type": "markdown",
   "metadata": {},
   "source": [
    "- two modes: ordinary and interactive\n",
    "- in interactvie mode: i click the timeserises and its related postion on topoplot shine red"
   ]
  },
  {
   "cell_type": "code",
   "execution_count": 168,
   "metadata": {},
   "outputs": [],
   "source": [
    "\n",
    "# classic butterflyplot\n",
    "let    \n",
    "    f = Figure(backgroundcolor = RGBf(0.98, 0.98, 0.98), resolution = (1500, 700))\n",
    "    ax = Axis(f[1:2,1], xlabel = \"Time [s]\", ylabel = \"Voltage amplitude [µV]\")\n",
    "    \n",
    "    toggles = [Toggle(f, active = active) for active in [true]]\n",
    "    labels = [Label(f, lift(x -> x ? \"colored\" : \"not colored\", t.active))\n",
    "            for t in toggles]\n",
    "    f[1, 2] = grid!(hcat(toggles, labels), tellheight = false)\n",
    "\n",
    "    N = 1:length(pos) #1:4 \n",
    "    hidespines!(ax, :t, :r) \n",
    "    GLMakie.xlims!(-0.3, 1.2)\n",
    "    hlines!(0, color = :gray, linewidth = 1)\n",
    "    vlines!(0, color = :gray, linewidth = 1)\n",
    "    times = range(-0.3, length=size(dat_e,2), step=1 ./ 128)\n",
    "    specialColors = ColorScheme(vcat(RGB(1,1,1.),[posToColor(pos) for pos in pos[N]]...))\n",
    "\n",
    "    for i in N\n",
    "        mean_trial = mean(dat_e[i,:,:],dims=2)[:,1]\n",
    "        line1 = lines!(times, mean_trial, color = \"black\")\n",
    "        line2 = lines!(times, mean_trial, color = specialColors[i])\n",
    "        connect!(line2.visible, toggles[1].active)\n",
    "    end \n",
    "    hidedecorations!(ax, label = false, ticks = false, ticklabels = false) \n",
    "\n",
    "    topo_axis = Axis(f[1:2, 2], width = 178, height = 178, aspect = DataAspect())\n",
    "\n",
    "\tMakie.xlims!(low = -0.2, high = 1.2)\n",
    "\tMakie.ylims!(low = -0.2, high = 1.2)\n",
    "    topoMatrix = eegHeadMatrix(pos[N], (0.5, 0.5), 0.5)\n",
    "    \n",
    "    topo = eeg_topoplot!(topo_axis, N, # averaging all trial of 30 participants on Xth msec\n",
    "        raw.ch_names[1:30]; \n",
    "        positions=pos, # produced  automatically from ch_names\n",
    "        #interpolation=NullInterpolator(),\n",
    "        enlarge=1,\n",
    "        #extrapolation=GeomExtrapolation(enlarge=1.0, geometry=Circle),\n",
    "        colorrange = (0, length(pos)), # add the 0 for the white-first color\n",
    "        colormap = specialColors,\n",
    "        label_text=false)\n",
    "    hidedecorations!(current_axis())\n",
    "    hidespines!(current_axis())\n",
    "    f\n",
    "end"
   ]
  },
  {
   "cell_type": "code",
   "execution_count": 141,
   "metadata": {},
   "outputs": [
    {
     "ename": "LoadError",
     "evalue": "LoadError: UndefVarError: @subset not defined\nin expression starting at c:\\Users\\Vlad\\Projects\\Dashboard\\prototype.ipynb:5",
     "output_type": "error",
     "traceback": [
      "LoadError: UndefVarError: @subset not defined\n",
      "in expression starting at c:\\Users\\Vlad\\Projects\\Dashboard\\prototype.ipynb:5\n"
     ]
    }
   ],
   "source": [
    "let\n",
    "\n",
    "    f = Figure()\n",
    "    ax = Axis(f[1:2,1], xlabel = \"Time [s]\", ylabel = \"Voltage amplitude [µV]\")\n",
    "    \n",
    "    N = 1:length(pos) #1:4 \n",
    "    hidespines!(ax, :t, :r) \n",
    "    CairoMakie.xlims!(-0.3,0.8)\n",
    "    hlines!(0, color = :gray, linewidth = 1)\n",
    "    vlines!(0, color = :gray, linewidth = 1)\n",
    "\n",
    "    specialColors = ColorScheme(vcat(RGB(1,1,1.),[posToColor(pos) for pos in pos[N]]...))\n",
    "\n",
    "    for i in N\n",
    "        tmp = data[data[:, :channel] .== i, :] \n",
    "        lines!(tmp.time, tmp.estimate_bsln_corrected, color = specialColors[i])\n",
    "    end \n",
    "    hidedecorations!(ax, label = false, ticks = false, ticklabels = false) \n",
    "\n",
    "    topo_axis = Axis(f[1:2,2], width = 78, height = 78, aspect = DataAspect())\n",
    "\n",
    "\tMakie.xlims!(low = -0.2, high = 1.2)\n",
    "\tMakie.ylims!(low = -0.2, high = 1.2)\n",
    "    topoMatrix = eegHeadMatrix(pos[N], (0.5, 0.5), 0.5)\n",
    "    \n",
    "    topoplot = eeg_topoplot!(topo_axis, N, # go from 1:npos\n",
    "        string.(N); \n",
    "        positions = pos[N],\n",
    "        interpolation=NullInterpolator(), # inteprolator that returns only 0\n",
    "        colorrange = (0, length(pos)), # add the 0 for the white-first color\n",
    "        colormap = specialColors,\n",
    "        head = (color=:black, linewidth=1, model = topoMatrix))\n",
    "\n",
    "    hidedecorations!(current_axis())\n",
    "    hidespines!(current_axis())\n",
    "\n",
    "    f\n",
    "    #save(\"plots/plot2.svg\", f)\n",
    "end"
   ]
  }
 ],
 "metadata": {
  "kernelspec": {
   "display_name": "Julia 1.8.3",
   "language": "julia",
   "name": "julia-1.8"
  },
  "language_info": {
   "file_extension": ".jl",
   "mimetype": "application/julia",
   "name": "julia",
   "version": "1.8.3"
  },
  "orig_nbformat": 4,
  "vscode": {
   "interpreter": {
    "hash": "c813ac0529ad8aa3a599245ec8cf1c2004d94139568d269f9c5835e56f8fa2b6"
   }
  }
 },
 "nbformat": 4,
 "nbformat_minor": 2
}
