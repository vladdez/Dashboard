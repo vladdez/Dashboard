{
 "cells": [
  {
   "cell_type": "code",
   "execution_count": 5,
   "metadata": {},
   "outputs": [
    {
     "name": "stderr",
     "output_type": "stream",
     "text": [
      "\u001b[32m\u001b[1m  Activating\u001b[22m\u001b[39m project at `c:\\Users\\Vlad\\Projects\\Dashboard\\env`\n"
     ]
    }
   ],
   "source": [
    "using Pkg\n",
    "Pkg.activate(\"../Dashboard/env\")"
   ]
  },
  {
   "cell_type": "code",
   "execution_count": 22,
   "metadata": {},
   "outputs": [
    {
     "name": "stdout",
     "output_type": "stream",
     "text": [
      "\u001b[32m\u001b[1mStatus\u001b[22m\u001b[39m `C:\\Users\\Vlad\\Projects\\Dashboard\\env\\Project.toml`\n",
      "  \u001b[90m[cbdf2221] \u001b[39mAlgebraOfGraphics v0.6.16\n",
      "  \u001b[90m[13f3f980] \u001b[39mCairoMakie v0.10.8\n",
      "  \u001b[90m[35d6a980] \u001b[39mColorSchemes v3.23.0\n",
      "  \u001b[90m[5ae59095] \u001b[39mColors v0.12.10\n",
      "  \u001b[90m[34da2185] \u001b[39mCompat v4.9.0\n",
      "  \u001b[90m[8f03c58b] \u001b[39mEffects v1.1.0\n",
      "  \u001b[90m[e9467ef8] \u001b[39mGLMakie v0.8.8\n",
      "  \u001b[90m[5c1252a2] \u001b[39mGeometryBasics v0.4.9\n",
      "  \u001b[90m[033835bb] \u001b[39mJLD2 v0.4.33\n",
      "  \u001b[90m[ee78f7c6] \u001b[39mMakie v0.19.8\n",
      "  \u001b[90m[19eb6ba3] \u001b[39mPacking v0.5.0\n",
      "  \u001b[90m[b98c9c47] \u001b[39mPipe v1.3.0\n",
      "  \u001b[90m[1277b4bf] \u001b[39mShiftedArrays v2.0.0\n",
      "\u001b[33m⌅\u001b[39m \u001b[90m[2913bbd2] \u001b[39mStatsBase v0.33.21\n",
      "  \u001b[90m[2bdbdf9c] \u001b[39mTopoPlots v0.1.4\n",
      "\u001b[32m⌃\u001b[39m \u001b[90m[181c99d8] \u001b[39mUnfold v0.3.4\n",
      "  \u001b[90m[69a5ce3b] \u001b[39mUnfoldMakie v0.3.3\n",
      "  \u001b[90m[276b4fcb] \u001b[39mWGLMakie v0.8.12\n",
      "  \u001b[90m[37e2e46d] \u001b[39mLinearAlgebra\n",
      "\u001b[36m\u001b[1mInfo\u001b[22m\u001b[39m Packages marked with \u001b[32m⌃\u001b[39m and \u001b[33m⌅\u001b[39m have new versions available, but those with \u001b[33m⌅\u001b[39m are restricted by compatibility constraints from upgrading. To see why use `status --outdated`\n"
     ]
    }
   ],
   "source": [
    "Pkg.status()"
   ]
  },
  {
   "cell_type": "code",
   "execution_count": 2,
   "metadata": {},
   "outputs": [
    {
     "name": "stderr",
     "output_type": "stream",
     "text": [
      "\u001b[32m\u001b[1m    Building\u001b[22m\u001b[39m ModernGL → `C:\\Users\\Vlad\\.julia\\scratchspaces\\44cfe95a-1eb2-52ea-b672-e2afdf69b78f\\b76ea40b5c0f45790ae09492712dd326208c28b2\\build.log`\n"
     ]
    },
    {
     "name": "stderr",
     "output_type": "stream",
     "text": [
      "\u001b[32m\u001b[1mPrecompiling\u001b[22m\u001b[39m "
     ]
    },
    {
     "name": "stderr",
     "output_type": "stream",
     "text": [
      "project..."
     ]
    },
    {
     "name": "stderr",
     "output_type": "stream",
     "text": [
      "\n"
     ]
    },
    {
     "name": "stderr",
     "output_type": "stream",
     "text": [
      "\u001b[32m  ✓ \u001b[39m\u001b[90mModernGL\u001b[39m\n"
     ]
    },
    {
     "name": "stderr",
     "output_type": "stream",
     "text": [
      "\u001b[91m  ✗ \u001b[39mGLMakie\n",
      "  1 dependency successfully precompiled in 20 seconds. 359 already precompiled.\n",
      "  \u001b[91m1\u001b[39m dependency errored. To see a full report either run `import Pkg; Pkg.precompile()` or load the package\n"
     ]
    }
   ],
   "source": [
    "Pkg.build(\"GLMakie\")"
   ]
  },
  {
   "cell_type": "code",
   "execution_count": 6,
   "metadata": {},
   "outputs": [],
   "source": [
    "using Colors\n",
    "using TopoPlots\n",
    "using StatsBase # mean/std\n",
    "using Pipe\n",
    "using ColorSchemes\n",
    "using LinearAlgebra\n",
    "using JLD2 # loading data\n",
    "using Makie\n",
    "using WGLMakie\n"
   ]
  },
  {
   "cell_type": "code",
   "execution_count": 17,
   "metadata": {},
   "outputs": [
    {
     "data": {
      "text/plain": [
       "true"
      ]
     },
     "metadata": {},
     "output_type": "display_data"
    }
   ],
   "source": [
    "Makie.inline!(true)"
   ]
  },
  {
   "cell_type": "code",
   "execution_count": 7,
   "metadata": {},
   "outputs": [
    {
     "data": {
      "text/plain": [
       "([0.020321019 0.017548025 … -0.01600543 -0.01283471; 0.0031529826 -0.0015369694 … 0.0435155 0.042441286; … ; 0.019118542 0.018276842 … -0.0016676243 0.000102287915; 0.019761175 0.015906857 … 0.11238504 0.10997909;;; 0.12287474 0.12434518 … 0.26227304 0.2553188; 0.07275557 0.07255436 … 0.30493587 0.30125305; … ; 0.06405158 0.06326836 … 0.2052622 0.2037698; 0.07259608 0.07544017 … 0.2627769 0.25834358;;; 0.26609147 0.2966399 … 0.40829125 0.4242154; 0.43455398 0.46788654 … 0.29459625 0.29695213; … ; 0.13350745 0.14102341 … 0.48767123 0.4992381; 0.15481107 0.21390781 … 0.059936017 0.06072311], Point{2, Float32}[[0.49371386, 0.5440313], [0.5630452, 0.50400287], [0.5630452, 0.4239459], [0.49371386, 0.38391745], [0.4243825, 0.4239459], [0.4243825, 0.50400287], [0.5378472, 0.6178857], [0.61455333, 0.56901854], [0.6522695, 0.4862579], [0.6388263, 0.39630732]  …  [0.93907887, 0.6439135], [0.9450873, 0.29968786], [0.8333667, 0.12432156], [0.61803544, 1.9428903f-16], [0.3693923, 2.7755576f-17], [0.15406103, 0.12432156], [0.029739477, 0.3396528], [0.04834886, 0.6439135], [0.26820713, 0.88809085], [0.7192206, 0.88809085]])"
      ]
     },
     "metadata": {},
     "output_type": "display_data"
    }
   ],
   "source": [
    "data, pos = TopoPlots.example_data()"
   ]
  },
  {
   "cell_type": "markdown",
   "metadata": {},
   "source": [
    "# 0. Modular functions"
   ]
  },
  {
   "cell_type": "code",
   "execution_count": 8,
   "metadata": {},
   "outputs": [
    {
     "data": {
      "text/plain": [
       "cart2pol (generic function with 1 method)"
      ]
     },
     "metadata": {},
     "output_type": "display_data"
    }
   ],
   "source": [
    "function posToColorRGB(pos)\n",
    "    cx = 0.5 - pos[1]\n",
    "    cy = 0.5 - pos[2]\n",
    "    # rotate to mimick MNE\n",
    "    rx = cx * 0.7071068 + cy * 0.7071068\n",
    "    ry = cx * -0.7071068 + cy * 0.7071068\n",
    "    b = 1.0 - (2*sqrt(cx^2+cy^2))^2 # weight by distance\n",
    "    colorwheel = RGB(0.5 - rx*1.414, 0.5 - ry*1.414, b)\n",
    "    \n",
    "    return colorwheel\n",
    "end\n",
    "\n",
    "function posToColorHSV(pos)\n",
    "    rx = 0.5 - pos[1]\n",
    "    ry = 0.5 - pos[2]\n",
    "    \n",
    "    b = 0.5#1.0 - (2*sqrt(cx^2+cy^2))^2\n",
    "    θ,r =  cart2pol.(rx,ry)\n",
    "   \n",
    "    colorwheel = HSV(θ*360,b,(r./0.7)./2+0.5)\n",
    "\n",
    "    return colorwheel\n",
    "end\n",
    "\n",
    "\n",
    "function posToColorRomaO(pos)\n",
    "    rx = 0.5 - pos[1]\n",
    "    ry = 0.5 - pos[2]\n",
    "\n",
    "    θ,r =  cart2pol.(rx,ry)\n",
    "    # circular colormap 2D\n",
    "    colorwheel = get(ColorSchemes.romaO,θ)\n",
    "    return colorwheel\n",
    "end\n",
    "\n",
    "\n",
    "function cart2pol(x,y)\n",
    "θ = atan(x,y) ./(2*π)+0.5\n",
    "r = sqrt(x^2 + y^2)\n",
    "    return θ, r\n",
    "end"
   ]
  },
  {
   "cell_type": "code",
   "execution_count": 19,
   "metadata": {},
   "outputs": [
    {
     "data": {
      "text/plain": [
       "ft_topo_axis (generic function with 1 method)"
      ]
     },
     "metadata": {},
     "output_type": "display_data"
    }
   ],
   "source": [
    "function ft_topo_axis(f, sensornum, times, data;\n",
    "    time=nothing, width_height = 175, labels=nothing, mark_color=nothing, markersize = 1, interpolation=ClaughTochter(), colormap = Reverse(:RdBu))\n",
    "\n",
    "    N = 1:sensornum\n",
    "    topo_axis = Axis(f, width = width_height, height = width_height, aspect = DataAspect())\n",
    "    if time == nothing\n",
    "        topo = eeg_topoplot!(topo_axis, mark_color, N, labels;\n",
    "        positions=pos[1:sensornum], \n",
    "        enlarge=1,\n",
    "        interpolation=interpolation,\n",
    "        colormap = colormap,\n",
    "        label_scatter=(markersize=markersize, strokewidth=0.5) \n",
    "    )\n",
    "    else\n",
    "        topo_slice = lift((t, data) -> mean(data[1:sensornum, indexin(t, times), :], dims=2)[:,1], time, data)\n",
    "        \n",
    "        topo = eeg_topoplot!(topo_axis, topo_slice, N; \n",
    "        positions=pos[1:sensornum], \n",
    "        enlarge=1,\n",
    "        interpolation=interpolation,\n",
    "        colormap = colormap,\n",
    "        label_scatter=(markersize=markersize, strokewidth=0.5) \n",
    "        ) \n",
    "    end\n",
    "end"
   ]
  },
  {
   "cell_type": "markdown",
   "metadata": {},
   "source": [
    "# 1. Sliders"
   ]
  },
  {
   "cell_type": "markdown",
   "metadata": {},
   "source": [
    "## 1.0 topoplot"
   ]
  },
  {
   "cell_type": "code",
   "execution_count": 20,
   "metadata": {},
   "outputs": [
    {
     "ename": "MethodError",
     "evalue": "MethodError: no method matching ft_topo_axis(::GridPosition, ::Int64, ::StepRangeLen{Float64, Base.TwicePrecision{Float64}, Base.TwicePrecision{Float64}, Int64}, ::Array{Float32, 3}; time::Nothing, topo_slice::Vector{Float32}, width_height::Int64, markersize::Int64, label_text::Bool)\n\nClosest candidates are:\n  ft_topo_axis(::Any, ::Any, ::Any, ::Any; time, width_height, labels, mark_color, markersize, interpolation, colormap) got unsupported keyword arguments \"topo_slice\", \"label_text\"\n   @ Main c:\\Users\\Vlad\\Projects\\Dashboard\\prototype.ipynb:1\n",
     "output_type": "error",
     "traceback": [
      "MethodError: no method matching ft_topo_axis(::GridPosition, ::Int64, ::StepRangeLen{Float64, Base.TwicePrecision{Float64}, Base.TwicePrecision{Float64}, Int64}, ::Array{Float32, 3}; time::Nothing, topo_slice::Vector{Float32}, width_height::Int64, markersize::Int64, label_text::Bool)\n",
      "\n",
      "Closest candidates are:\n",
      "  ft_topo_axis(::Any, ::Any, ::Any, ::Any; time, width_height, labels, mark_color, markersize, interpolation, colormap) got unsupported keyword arguments \"topo_slice\", \"label_text\"\n",
      "   @ Main c:\\Users\\Vlad\\Projects\\Dashboard\\prototype.ipynb:1\n",
      "\n",
      "\n",
      "Stacktrace:\n",
      " [1] kwerr(::NamedTuple{(:time, :topo_slice, :width_height, :markersize, :label_text), Tuple{Nothing, Vector{Float32}, Int64, Int64, Bool}}, ::Function, ::GridPosition, ::Int64, ::StepRangeLen{Float64, Base.TwicePrecision{Float64}, Base.TwicePrecision{Float64}, Int64}, ::Array{Float32, 3})\n",
      "   @ Base .\\error.jl:165\n",
      " [2] top-level scope\n",
      "   @ c:\\Users\\Vlad\\Projects\\Dashboard\\prototype.ipynb:8"
     ]
    }
   ],
   "source": [
    "let \n",
    "    data, pos = TopoPlots.example_data()\n",
    "    f = Figure(resolution = (1000, 900))\n",
    "    xs = range(-0.3, length=size(data, 2), step=1 ./ 128) \n",
    "\n",
    "    topo_axis = Axis(f[1, 1], aspect = DataAspect())\n",
    "    topo_slice = data[:,120,1]\n",
    "    topo_axis = ft_topo_axis(f[1, 1], length(pos), xs, data; \n",
    "        time=nothing, topo_slice=topo_slice,  width_height=900, markersize = 10, label_text=false)\n",
    "\n",
    "    f\n",
    "end"
   ]
  },
  {
   "cell_type": "markdown",
   "metadata": {},
   "source": [
    "## 1.1. Topoplot with timeslider"
   ]
  },
  {
   "cell_type": "code",
   "execution_count": 18,
   "metadata": {},
   "outputs": [
    {
     "ename": "UndefVarError",
     "evalue": "UndefVarError: `topo_slice` not defined",
     "output_type": "error",
     "traceback": [
      "UndefVarError: `topo_slice` not defined\n",
      "\n",
      "Stacktrace:\n",
      " [1] ft_topo_axis(f::GridPosition, sensornum::Int64, times::StepRangeLen{Float64, Base.TwicePrecision{Float64}, Base.TwicePrecision{Float64}, Int64}, data::Array{Float32, 3}; time::Observable{Any}, width_height::Int64, labels::Nothing, mark_color::Nothing, markersize::Int64, interpolation::CloughTocher, colormap::Reverse{Symbol})\n",
      "   @ Main c:\\Users\\Vlad\\Projects\\Dashboard\\prototype.ipynb:7\n",
      " [2] slider_topoplot(data::Array{Float32, 3}, pos::Vector{Point{2, Float32}}; title::String, interpolation::CloughTocher)\n",
      "   @ Main c:\\Users\\Vlad\\Projects\\Dashboard\\prototype.ipynb:12\n",
      " [3] slider_topoplot(data::Array{Float32, 3}, pos::Vector{Point{2, Float32}})\n",
      "   @ Main c:\\Users\\Vlad\\Projects\\Dashboard\\prototype.ipynb:1\n",
      " [4] top-level scope\n",
      "   @ c:\\Users\\Vlad\\Projects\\Dashboard\\prototype.ipynb:30"
     ]
    }
   ],
   "source": [
    "function slider_topoplot(data, pos; \n",
    "    title=\"Interactive topoplot\", \n",
    "    interpolation=ClaughTochter()) \n",
    "    f = Figure(resolution = (900, 600))\n",
    "    N = 1:length(pos)\n",
    "    xs = range(0, length=size(data, 2), step=1 ./ 100) \n",
    "    sg = SliderGrid(f[2, 1],\n",
    "        (label = \"time\", range = xs, format = \"{:.3f} ms\", startvalue = 0),\n",
    "    )\n",
    "    time = sg.sliders[1].value\n",
    "\n",
    "    topo_axis = ft_topo_axis(f[1, 1], length(pos), xs, data; \n",
    "    time=time, width_height=500, markersize = 1)\n",
    "    # decrement/increment slider with left/right keys\n",
    "    on(events(f).keyboardbutton) do btn\n",
    "        if btn.action in (Keyboard.press, Keyboard.repeat)\n",
    "            if btn.key == Keyboard.left\n",
    "                set_close_to!(sg.sliders[1], time[] - 1)\n",
    "            elseif btn.key == Keyboard.right\n",
    "                set_close_to!(sg.sliders[1], time[] + 1)\n",
    "            end\n",
    "        end\n",
    "    end\n",
    "    str = lift(t -> \"[$(round(t, digits = 3)) ms]\", time)\n",
    "    text!(topo_axis, 1, 1, text = str,  align = (:center, :center))\n",
    "    \n",
    "    f\n",
    "end\n",
    "\n",
    "slider_topoplot(data, pos)"
   ]
  },
  {
   "cell_type": "markdown",
   "metadata": {},
   "source": [
    "## 1.2. Combination of butterflyplot and topoplot"
   ]
  },
  {
   "cell_type": "code",
   "execution_count": null,
   "metadata": {},
   "outputs": [],
   "source": [
    "\n",
    "function slider_butterfly_topoplot(data, pos; \n",
    "    title=\"Interactive topoplot\", \n",
    "    interpolation=ClaughTochter(),\n",
    "    sensornum=64, startpoint=-0.2, steps=100) \n",
    "N = 1:sensornum\n",
    "onset = 0.0\n",
    "steps = 1 ./ steps\n",
    "times = range(startpoint, length=size(data, 2), step=steps)  \n",
    "endpoint = times[end]\n",
    "f = Figure(backgroundcolor = RGBf(0.98, 0.98, 0.98), resolution = (1500, 700))\n",
    "\n",
    "# interaction\n",
    "\n",
    "sg = SliderGrid(f[4, 1:3],\n",
    "    (label=\"time\", range=times, format = \"{:.3f} ms\", startvalue = 0),\n",
    ")\n",
    "time = sg.sliders[1].value\n",
    "str = lift(t -> \"$(round(t, digits = 3)) ms\", time)\n",
    "\n",
    "specialColors = ColorScheme(vcat(RGB(1,1,1.),[posToColorRomaO(pos) for pos in pos[N]]...))\n",
    "\n",
    "# butterfly plot\n",
    "ax = Axis(f[2:3, 1:3], xlabel = \"Time [s]\", ylabel = \"Voltage amplitude [µV]\")\n",
    "\n",
    "hidespines!(ax, :t, :r) \n",
    "xlims!(startpoint, endpoint)\n",
    "hlines!(0, color = :gray, linewidth = 1)\n",
    "vlines!(onset, color = :gray, linewidth = 1)\n",
    "\n",
    "\n",
    "datl = [mean(data[i,:,:],dims=2)[:,1] for i = 1:sensornum]\n",
    "datl2 = reduce(hcat, datl)'\n",
    "datl2 = datl2 .- mean(datl2[:,times .< onset], dims=2)\n",
    "series!(ax, times, datl2, color = specialColors[2:sensornum+1])\n",
    "\n",
    "hidedecorations!(ax, label = false, ticks = false, ticklabels = false) \n",
    "vlines!(time, color = :red, linewidth = 1)\n",
    "\n",
    "ft_topo_axis(f[1, 2], sensornum, time=time, times, data, width_height=175, markersize = 1)\n",
    "\n",
    "\n",
    "Label(f[1, 2], str,\n",
    "    fontsize =36, font = :bold, padding = (40, 500, 0, 0), halign = :right)\n",
    "\n",
    "hidedecorations!(current_axis())\n",
    "hidespines!(current_axis())\n",
    "f\n",
    "end\n",
    "\n",
    "slider_butterfly_topoplot(data, pos)\n"
   ]
  },
  {
   "cell_type": "markdown",
   "metadata": {},
   "source": [
    "## 1.3. Buterfly plot with interactvie mode "
   ]
  },
  {
   "cell_type": "code",
   "execution_count": 12,
   "metadata": {},
   "outputs": [
    {
     "ename": "UndefVarError",
     "evalue": "UndefVarError: `topo_slice` not defined",
     "output_type": "error",
     "traceback": [
      "UndefVarError: `topo_slice` not defined\n",
      "\n",
      "Stacktrace:\n",
      " [1] ft_topo_axis(f::GridPosition, sensornum::Int64, times::StepRangeLen{Float64, Base.TwicePrecision{Float64}, Base.TwicePrecision{Float64}, Int64}, data::Array{Float32, 3}; time::Nothing, width_height::Int64, labels::Nothing, mark_color::Nothing, markersize::Int64, interpolation::NullInterpolator, colormap::Observable{Vector{Any}})\n",
      "   @ Main c:\\Users\\Vlad\\Projects\\Dashboard\\prototype.ipynb:7\n",
      " [2] toggle_butterfly_topoplot(data::Array{Float32, 3}, pos::Vector{Point{2, Float32}}; title::String, interpolation::CloughTocher, sensornum::Int64, startpoint::Float64, steps::Int64)\n",
      "   @ Main c:\\Users\\Vlad\\Projects\\Dashboard\\prototype.ipynb:34\n",
      " [3] toggle_butterfly_topoplot(data::Array{Float32, 3}, pos::Vector{Point{2, Float32}})\n",
      "   @ Main c:\\Users\\Vlad\\Projects\\Dashboard\\prototype.ipynb:2\n",
      " [4] top-level scope\n",
      "   @ c:\\Users\\Vlad\\Projects\\Dashboard\\prototype.ipynb:46"
     ]
    }
   ],
   "source": [
    "\n",
    "function toggle_butterfly_topoplot(data, pos; title=\"Interactive topoplot\", interpolation=ClaughTochter(),\n",
    "    sensornum=30, startpoint=-0.2, steps=100) \n",
    "    N = 1:sensornum\n",
    "    onset = 0.0\n",
    "    steps = 1 ./ steps\n",
    "    times = range(startpoint, length=size(data, 2), step=steps)  \n",
    "    endpoint = times[end]\n",
    "\n",
    "    running = Observable(false)\n",
    "    function toggle_running()\n",
    "        running[] = !running[]\n",
    "    end\n",
    "\n",
    "    f = Figure(backgroundcolor = RGBf(0.98, 0.98, 0.98), resolution = (1500, 700))\n",
    "    ax = Axis(f[1:3,1], xlabel = \"Time [s]\", ylabel = \"Voltage amplitude [µV]\")\n",
    "\n",
    "    hidespines!(ax, :t, :r) \n",
    "    xlims!(startpoint, endpoint)\n",
    "    hlines!(onset, color = :gray, linewidth = 1)\n",
    "    vlines!(onset, color = :gray, linewidth = 1)\n",
    "    \n",
    "    index = Observable(2)\n",
    "    multicolor = ColorScheme(vcat(RGB(1,1,1.),[posToColorRomaO(pos) for pos in pos[N]]...))[2:sensornum+1]\n",
    "    solidcolor = collect(ColorScheme(range(colorant\"#4d4d4d\", colorant\"#4d4d4d\", length=sensornum)))\n",
    "    specialColors = @lift($running ? multicolor : solidcolor) \n",
    "\n",
    "    datl = [mean(data[i,:,:], dims=2)[:,1] for i = 1:sensornum]\n",
    "    datl2 = reduce(hcat, datl)'\n",
    "    datl2 = datl2 .- mean(datl2[:, times .< onset], dims=2) # basline correction !!!!\n",
    "    ser = series!(ax, times, datl2, color=specialColors)\n",
    "\n",
    "    hidedecorations!(ax, label = false, ticks = false, ticklabels = false) \n",
    "    ft_topo_axis(f[1, 2], sensornum, colormap=specialColors, time=nothing, times, data, width_height=325, markersize = 20, interpolation=NullInterpolator())\n",
    "  \n",
    "    f[3, 2] = buttongrid = GridLayout(tellwidth = false)\n",
    "    btn = Button(f, label = @lift($running ? \"COLORED\" : \"SOLID\"))\n",
    "    buttongrid[1, 1:1] = [btn]\n",
    "\n",
    "    on(btn.clicks) do _\n",
    "        toggle_running()\n",
    "    end\n",
    "    f\n",
    "end\n",
    "\n",
    "toggle_butterfly_topoplot(data, pos)"
   ]
  },
  {
   "cell_type": "markdown",
   "metadata": {},
   "source": [
    "# 2. Clickers"
   ]
  },
  {
   "attachments": {},
   "cell_type": "markdown",
   "metadata": {},
   "source": [
    "## 2.1. Click topoplot"
   ]
  },
  {
   "cell_type": "code",
   "execution_count": 13,
   "metadata": {},
   "outputs": [
    {
     "name": "stderr",
     "output_type": "stream",
     "text": [
      "┌ Warning: Port in use, using different port. New port: 9385\n",
      "└ @ JSServe.HTTPServer C:\\Users\\Vlad\\.julia\\packages\\JSServe\\qgqel\\src\\HTTPServer\\implementation.jl:273\n"
     ]
    }
   ],
   "source": [
    "function click_topoplot(data, pos; interpolation=ClaughTochter(),\n",
    "    sensornum=64) \n",
    "\n",
    "    f = Figure(backgroundcolor = RGBf(0.98, 0.98, 0.98))\n",
    "    N = 1:length(pos)\n",
    "\n",
    "    topo_axis = Axis(f[1, 1],  aspect = DataAspect())\n",
    "    \n",
    "\txlims!(low = -0.2, high = 1.2)\n",
    "\tylims!(low = -0.2, high = 1.2)\n",
    "    \n",
    "    mark_size = repeat([21], sensornum)\n",
    "    mark_color = repeat([1], sensornum)\n",
    "    labels = [\"s$i\" for i in 1:sensornum]\n",
    "    topo = eeg_topoplot!(topo_axis, data[:, 340, 1], labels;\n",
    "        mark_color,  N, \n",
    "        positions=pos[1:sensornum], \n",
    "        interpolation=NullInterpolator(),\n",
    "        enlarge=1,\n",
    "        label_text=false, \n",
    "        label_scatter=(markersize=mark_size, color=:black)\n",
    "    ) \n",
    "    hidedecorations!(current_axis())\n",
    "    hidespines!(current_axis())\n",
    "\n",
    "    i = Observable(1)\n",
    "    str = lift((i, labels) -> \"$(labels[i])\", i, labels)\n",
    "    text!(topo_axis, 1, 1, text = str,  align = (:center, :center))\n",
    "    on(events(f).mousebutton, priority = 2) do event\n",
    "        if event.button == Mouse.left && event.action == Mouse.press\n",
    "            plt, p = pick(topo_axis)\n",
    "            i[] = p\n",
    "        end\n",
    "    end\n",
    "    f\n",
    "end\n",
    "\n",
    "click_topoplot(data, pos)"
   ]
  },
  {
   "attachments": {},
   "cell_type": "markdown",
   "metadata": {},
   "source": [
    "## 2.2. Click butterfly"
   ]
  },
  {
   "cell_type": "code",
   "execution_count": 16,
   "metadata": {},
   "outputs": [
    {
     "ename": "MethodError",
     "evalue": "MethodError: no method matching length(::Nothing)\n\nClosest candidates are:\n  length(!Matched::Union{Base.KeySet, Base.ValueIterator})\n   @ Base abstractdict.jl:58\n  length(!Matched::Union{SparseArrays.FixedSparseVector{Tv, Ti}, SparseArrays.SparseVector{Tv, Ti}} where {Tv, Ti})\n   @ SparseArrays C:\\Users\\Vlad\\AppData\\Local\\Programs\\julia-1.9.2\\share\\julia\\stdlib\\v1.9\\SparseArrays\\src\\sparsevector.jl:95\n  length(!Matched::Union{Adjoint{T, <:Union{StaticArraysCore.StaticArray{Tuple{var\"#s2\"}, T, 1} where var\"#s2\", StaticArraysCore.StaticArray{Tuple{var\"#s3\", var\"#s4\"}, T, 2} where {var\"#s3\", var\"#s4\"}}}, Diagonal{T, <:StaticArraysCore.StaticArray{Tuple{var\"#s14\"}, T, 1} where var\"#s14\"}, Hermitian{T, <:StaticArraysCore.StaticArray{Tuple{var\"#s11\", var\"#s12\"}, T, 2} where {var\"#s11\", var\"#s12\"}}, LowerTriangular{T, <:StaticArraysCore.StaticArray{Tuple{var\"#s19\", var\"#s20\"}, T, 2} where {var\"#s19\", var\"#s20\"}}, Symmetric{T, <:StaticArraysCore.StaticArray{Tuple{var\"#s8\", var\"#s9\"}, T, 2} where {var\"#s8\", var\"#s9\"}}, Transpose{T, <:Union{StaticArraysCore.StaticArray{Tuple{var\"#s2\"}, T, 1} where var\"#s2\", StaticArraysCore.StaticArray{Tuple{var\"#s3\", var\"#s4\"}, T, 2} where {var\"#s3\", var\"#s4\"}}}, UnitLowerTriangular{T, <:StaticArraysCore.StaticArray{Tuple{var\"#s25\", var\"#s26\"}, T, 2} where {var\"#s25\", var\"#s26\"}}, UnitUpperTriangular{T, <:StaticArraysCore.StaticArray{Tuple{var\"#s22\", var\"#s23\"}, T, 2} where {var\"#s22\", var\"#s23\"}}, UpperTriangular{T, <:StaticArraysCore.StaticArray{Tuple{var\"#s16\", var\"#s17\"}, T, 2} where {var\"#s16\", var\"#s17\"}}, StaticArraysCore.StaticArray{Tuple{var\"#s26\"}, T, 1} where var\"#s26\", StaticArraysCore.StaticArray{Tuple{var\"#s1\", var\"#s4\"}, T, 2} where {var\"#s1\", var\"#s4\"}, StaticArraysCore.StaticArray{<:Tuple, T}} where T)\n   @ StaticArrays C:\\Users\\Vlad\\.julia\\packages\\StaticArrays\\9KYrc\\src\\abstractarray.jl:1\n  ...\n",
     "output_type": "error",
     "traceback": [
      "MethodError: no method matching length(::Nothing)\n",
      "\n",
      "Closest candidates are:\n",
      "  length(!Matched::Union{Base.KeySet, Base.ValueIterator})\n",
      "   @ Base abstractdict.jl:58\n",
      "  length(!Matched::Union{SparseArrays.FixedSparseVector{Tv, Ti}, SparseArrays.SparseVector{Tv, Ti}} where {Tv, Ti})\n",
      "   @ SparseArrays C:\\Users\\Vlad\\AppData\\Local\\Programs\\julia-1.9.2\\share\\julia\\stdlib\\v1.9\\SparseArrays\\src\\sparsevector.jl:95\n",
      "  length(!Matched::Union{Adjoint{T, <:Union{StaticArraysCore.StaticArray{Tuple{var\"#s2\"}, T, 1} where var\"#s2\", StaticArraysCore.StaticArray{Tuple{var\"#s3\", var\"#s4\"}, T, 2} where {var\"#s3\", var\"#s4\"}}}, Diagonal{T, <:StaticArraysCore.StaticArray{Tuple{var\"#s14\"}, T, 1} where var\"#s14\"}, Hermitian{T, <:StaticArraysCore.StaticArray{Tuple{var\"#s11\", var\"#s12\"}, T, 2} where {var\"#s11\", var\"#s12\"}}, LowerTriangular{T, <:StaticArraysCore.StaticArray{Tuple{var\"#s19\", var\"#s20\"}, T, 2} where {var\"#s19\", var\"#s20\"}}, Symmetric{T, <:StaticArraysCore.StaticArray{Tuple{var\"#s8\", var\"#s9\"}, T, 2} where {var\"#s8\", var\"#s9\"}}, Transpose{T, <:Union{StaticArraysCore.StaticArray{Tuple{var\"#s2\"}, T, 1} where var\"#s2\", StaticArraysCore.StaticArray{Tuple{var\"#s3\", var\"#s4\"}, T, 2} where {var\"#s3\", var\"#s4\"}}}, UnitLowerTriangular{T, <:StaticArraysCore.StaticArray{Tuple{var\"#s25\", var\"#s26\"}, T, 2} where {var\"#s25\", var\"#s26\"}}, UnitUpperTriangular{T, <:StaticArraysCore.StaticArray{Tuple{var\"#s22\", var\"#s23\"}, T, 2} where {var\"#s22\", var\"#s23\"}}, UpperTriangular{T, <:StaticArraysCore.StaticArray{Tuple{var\"#s16\", var\"#s17\"}, T, 2} where {var\"#s16\", var\"#s17\"}}, StaticArraysCore.StaticArray{Tuple{var\"#s26\"}, T, 1} where var\"#s26\", StaticArraysCore.StaticArray{Tuple{var\"#s1\", var\"#s4\"}, T, 2} where {var\"#s1\", var\"#s4\"}, StaticArraysCore.StaticArray{<:Tuple, T}} where T)\n",
      "   @ StaticArrays C:\\Users\\Vlad\\.julia\\packages\\StaticArrays\\9KYrc\\src\\abstractarray.jl:1\n",
      "  ...\n",
      "\n",
      "\n",
      "Stacktrace:\n",
      "  [1] _zip_min_length(is::Tuple{Nothing, Array{Float32, 3}})\n",
      "    @ Base.Iterators .\\iterators.jl:382\n",
      "  [2] length(z::Base.Iterators.Zip{Tuple{Nothing, Array{Float32, 3}}})\n",
      "    @ Base.Iterators .\\iterators.jl:372\n",
      "  [3] length(g::Base.Generator{Base.Iterators.Zip{Tuple{Nothing, Array{Float32, 3}}}, Base.var\"#4#5\"{var\"#47#48\"{Int64, StepRangeLen{Float64, Base.TwicePrecision{Float64}, Base.TwicePrecision{Float64}, Int64}}}})\n",
      "    @ Base .\\generator.jl:50\n",
      "  [4] _similar_shape(itr::Base.Generator{Base.Iterators.Zip{Tuple{Nothing, Array{Float32, 3}}}, Base.var\"#4#5\"{var\"#47#48\"{Int64, StepRangeLen{Float64, Base.TwicePrecision{Float64}, Base.TwicePrecision{Float64}, Int64}}}}, #unused#::Base.HasLength)\n",
      "    @ Base .\\array.jl:658\n",
      "  [5] collect(itr::Base.Generator{Base.Iterators.Zip{Tuple{Nothing, Array{Float32, 3}}}, Base.var\"#4#5\"{var\"#47#48\"{Int64, StepRangeLen{Float64, Base.TwicePrecision{Float64}, Base.TwicePrecision{Float64}, Int64}}}})\n",
      "    @ Base .\\array.jl:781\n",
      "  [6] map(::Function, ::Nothing, ::Array{Float32, 3})\n",
      "    @ Base .\\abstractarray.jl:3383\n",
      "  [7] ft_topo_axis(f::GridPosition, sensornum::Int64, times::StepRangeLen{Float64, Base.TwicePrecision{Float64}, Base.TwicePrecision{Float64}, Int64}, data::Array{Float32, 3}; time::Nothing, width_height::Int64, labels::Nothing, mark_color::Observable{Vector{Int64}}, markersize::Vector{Int64}, interpolation::NullInterpolator, colormap::Vector{Any})\n",
      "    @ Main c:\\Users\\Vlad\\Projects\\Dashboard\\prototype.ipynb:15\n",
      "  [8] click_butterfly_topoplot(data::Array{Float32, 3}, pos::Vector{Point{2, Float32}}; title::String, interpolation::CloughTocher, sensornum::Int64, startpoint::Float64, steps::Int64)\n",
      "    @ Main c:\\Users\\Vlad\\Projects\\Dashboard\\prototype.ipynb:48\n",
      "  [9] click_butterfly_topoplot(data::Array{Float32, 3}, pos::Vector{Point{2, Float32}})\n",
      "    @ Main c:\\Users\\Vlad\\Projects\\Dashboard\\prototype.ipynb:1\n",
      " [10] top-level scope\n",
      "    @ c:\\Users\\Vlad\\Projects\\Dashboard\\prototype.ipynb:75"
     ]
    }
   ],
   "source": [
    "function click_butterfly_topoplot(data, pos; title=\"Interactive topoplot\", interpolation=ClaughTochter(),\n",
    "    sensornum=64, startpoint=-0.2, steps=100)  \n",
    "\n",
    "    N = 1:sensornum\n",
    "    onset = 0.0\n",
    "    steps = 1 ./ steps\n",
    "    times = range(startpoint, length=size(data, 2), step=steps)  \n",
    "    endpoint = times[end]\n",
    "\n",
    "    f = Figure(#backgroundcolor = RGBf(0.98, 0.98, 0.98), \n",
    "    resolution = (1500, 700))\n",
    "    ax = Axis(f[1:3, 1], xlabel = \"Time [s]\", ylabel = \"Voltage amplitude [µV]\")\n",
    "\n",
    "    hidespines!(ax, :t, :r) \n",
    "    xlims!(startpoint, endpoint)\n",
    "    hlines!(0, color = :gray, linewidth = 1)\n",
    "    vlines!(0, color = :gray, linewidth = 1)\n",
    "    \n",
    "    datl = [mean(data[i,:,:], dims=2)[:,1] for i = 1:sensornum]\n",
    "    datl2 = reduce(hcat, datl)'\n",
    "    datl2 = datl2 .- mean(datl2[:,times .< onset], dims=2) # basline correction\n",
    "\n",
    "    i = Observable(15)\n",
    "    begin\n",
    "        tmp1 = repeat([0], sensornum)\n",
    "        mark_color = @lift begin\n",
    "            tmp1[1:end] .= 0\n",
    "            if $i != 0\n",
    "                tmp1[$i] = 1\n",
    "            end\n",
    "            return tmp1\n",
    "\n",
    "        end\n",
    "        red_line = @lift begin\n",
    "            datl3 = datl2'\n",
    "            tmp2 = datl3[:, 1]  \n",
    "                if $i != 0\n",
    "                    tmp2 = datl3[:, $i]\n",
    "                end\n",
    "                return tmp2\n",
    "        end\n",
    "    end\n",
    "\n",
    "    series!(ax, times, datl2, solid_color=\"#4d4d4d\")\n",
    "\n",
    "    cmap = collect(ColorScheme(range(colorant\"black\", colorant\"red\", length=2)))\n",
    "    mark_size = repeat([21], sensornum)\n",
    "    topo_axis = ft_topo_axis(f[2:3, 2], sensornum, times, data; mark_color=mark_color, colormap = cmap, \n",
    "    interpolation=NullInterpolator(), time=nothing, width_height=345, \n",
    "    markersize = mark_size)\n",
    "    \n",
    "    labels = [\"s$i\" for i in 1:sensornum]\n",
    "    str = lift((i, labels) -> \"$(labels[i])\", i, labels)\n",
    "    Label(f[1, 2], str,\n",
    "        fontsize =36, font = :bold, padding = (0, 0, 0, 50), halign = :center)\n",
    "\n",
    "    lc = nothing\n",
    "    on(events(f).mousebutton, priority = 2) do event\n",
    "        if event.button == Mouse.left && event.action == Mouse.press\n",
    "\n",
    "            plt, p = pick(topo_axis)\n",
    "            i[] = p\n",
    "            if lc != nothing\n",
    "                lc.color  = \"#4d4d4d\"\n",
    "                lc.linewidth  = 1.5\n",
    "            end\n",
    "            lc = lines!(ax, times, red_line[], color = \"red\", linewidth = 5)\n",
    "\n",
    "        end\n",
    "    end\n",
    "    hidedecorations!(ax, label = false, ticks = false, ticklabels = false) \n",
    "    f\n",
    "end\n",
    "\n",
    "click_butterfly_topoplot(data, pos)\n"
   ]
  },
  {
   "attachments": {},
   "cell_type": "markdown",
   "metadata": {},
   "source": [
    "# 2.3. Menu"
   ]
  },
  {
   "cell_type": "code",
   "execution_count": 24,
   "metadata": {},
   "outputs": [],
   "source": [
    "function menu_butterfly_topoplot(data, pos; title=\"Interactive topoplot\", interpolation=ClaughTochter(),\n",
    "    sensornum=64, startpoint=-0.2, steps=100) \n",
    "    N = 1:sensornum\n",
    "    onset = 0.0\n",
    "    steps = 1 ./ steps\n",
    "    times = range(startpoint, length=size(data, 2), step=steps)  \n",
    "    endpoint = times[end]\n",
    "    \n",
    "    f = Figure(backgroundcolor = RGBf(0.98, 0.98, 0.98), resolution = (1500, 700))\n",
    "    ax = Axis(f[1:3, 1], xlabel = \"Time [s]\", ylabel = \"Voltage amplitude [µV]\")\n",
    "\n",
    "    N = 1:length(pos)\n",
    "    hidespines!(ax, :t, :r) \n",
    "    xlims!(startpoint, endpoint)\n",
    "    hlines!(0, color = :gray, linewidth = 1)\n",
    "    vlines!(0, color = :gray, linewidth = 1)\n",
    "    \n",
    "    datl = [mean(data[i,:,:],dims=2)[:,1] for i = 1:sensornum]\n",
    "    datl2 = reduce(hcat, datl)'\n",
    "    datl2 = datl2 .- mean(datl2[:,times .< onset], dims=2) # basline correction\n",
    "\n",
    "    num = Observable(0)\n",
    "\n",
    "    begin\n",
    "        tmp1 = repeat([0], sensornum)\n",
    "        mark_color = @lift begin\n",
    "            tmp1[1:end] .= 0\n",
    "            if $num != 0\n",
    "                tmp1[$num] = 1\n",
    "            end\n",
    "            return tmp1\n",
    "        end\n",
    "        red_line = @lift begin\n",
    "            datl3 = datl2'\n",
    "            tmp2 = datl3[:, 1]  \n",
    "                if $num != 0\n",
    "                    tmp2 = datl3[:, $num]\n",
    "                end\n",
    "                return tmp2\n",
    "        end\n",
    "    end\n",
    "\n",
    "    series!(ax, times, datl2, solid_color=\"#4d4d4d\")\n",
    "\n",
    "    hidedecorations!(ax, label = false, ticks = false, ticklabels = false) \n",
    "    cmap = collect(ColorScheme(range(colorant\"black\", colorant\"red\", length=2)))\n",
    "    \n",
    "    mark_size = repeat([21], sensornum)\n",
    "    labels = [\"s$i\" for i in 1:sensornum]\n",
    "    menu = Menu(f[3, 2], options = labels, default = nothing)\n",
    "\n",
    "    topo_axis = ft_topo_axis(f[1:2, 2], sensornum, mark_color=mark_color, labels=labels, colormap = cmap, \n",
    "        interpolation=NullInterpolator(), time=nothing, times, data, width_height=345, markersize = mark_size)\n",
    "\n",
    "    lc = nothing\n",
    "        on(menu.selection) do selected\n",
    "        if selected != nothing\n",
    "            if lc != nothing\n",
    "                lc.color  = \"#4d4d4d\"\n",
    "                lc.linewidth  = 1.5\n",
    "            end\n",
    "            num[] = findfirst(x->x==menu.selection[], labels)\n",
    "            lc = lines!(ax, times, red_line[], color = \"red\", linewidth = 5)\n",
    "            notify(mark_color)\n",
    "            notify(red_line)   \n",
    "        end\n",
    "    end\n",
    "    notify(menu.selection) \n",
    "    hidedecorations!(topo_axis)\n",
    "    hidespines!(topo_axis)\n",
    "    f\n",
    "\n",
    "end\n",
    "\n",
    "menu_butterfly_topoplot(data, pos)"
   ]
  },
  {
   "attachments": {},
   "cell_type": "markdown",
   "metadata": {},
   "source": [
    "# Combination of butterflyplot and topoplot series\n",
    "- butterflyplot\n",
    "- topoplot series underneath \n",
    "- you can change number of topoplots and their range"
   ]
  }
 ],
 "metadata": {
  "kernelspec": {
   "display_name": "Julia 1.9.2",
   "language": "julia",
   "name": "julia-1.9"
  },
  "language_info": {
   "file_extension": ".jl",
   "mimetype": "application/julia",
   "name": "julia",
   "version": "1.9.2"
  },
  "orig_nbformat": 4,
  "vscode": {
   "interpreter": {
    "hash": "c813ac0529ad8aa3a599245ec8cf1c2004d94139568d269f9c5835e56f8fa2b6"
   }
  }
 },
 "nbformat": 4,
 "nbformat_minor": 2
}
