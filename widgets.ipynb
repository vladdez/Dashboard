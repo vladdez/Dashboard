{
 "cells": [
  {
   "cell_type": "code",
   "execution_count": 3,
   "metadata": {},
   "outputs": [],
   "source": [
    "using WGLMakie\n",
    "using Observables\n"
   ]
  },
  {
   "cell_type": "code",
   "execution_count": 2,
   "metadata": {},
   "outputs": [
    {
     "name": "stderr",
     "output_type": "stream",
     "text": [
      "\u001b[32m\u001b[1m    Updating\u001b[22m\u001b[39m registry at `~/.julia/registries/General.toml`\n",
      "\u001b[32m\u001b[1m   Resolving\u001b[22m\u001b[39m package versions...\n"
     ]
    },
    {
     "name": "stderr",
     "output_type": "stream",
     "text": [
      "\u001b[32m\u001b[1m   Installed\u001b[22m\u001b[39m ImageMagick_jll ──── v6.9.12+3\n",
      "\u001b[32m\u001b[1m   Installed\u001b[22m\u001b[39m WidgetsBase ──────── v0.1.4\n",
      "\u001b[32m\u001b[1m   Installed\u001b[22m\u001b[39m ImageMagick ──────── v1.2.1\n",
      "\u001b[32m\u001b[1m   Installed\u001b[22m\u001b[39m Ghostscript_jll ──── v9.55.0+0\n",
      "\u001b[32m\u001b[1m   Installed\u001b[22m\u001b[39m WGLMakie ─────────── v0.6.13\n",
      "\u001b[32m\u001b[1m   Installed\u001b[22m\u001b[39m RelocatableFolders ─ v0.1.3\n",
      "\u001b[32m\u001b[1m   Installed\u001b[22m\u001b[39m JSServe ──────────── v1.2.9\n"
     ]
    },
    {
     "name": "stderr",
     "output_type": "stream",
     "text": [
      "\u001b[32m\u001b[1m    Updating\u001b[22m\u001b[39m `~/.julia/environments/v1.7/Project.toml`\n",
      "\u001b[32m⌃\u001b[39m\u001b[90m [276b4fcb] \u001b[39m\u001b[92m+ WGLMakie v0.6.13\u001b[39m\n",
      "\u001b[32m\u001b[1m    Updating\u001b[22m\u001b[39m `~/.julia/environments/v1.7/Manifest.toml`\n"
     ]
    },
    {
     "name": "stderr",
     "output_type": "stream",
     "text": [
      " \u001b[90m [47d2ed2b] \u001b[39m\u001b[92m+ Hyperscript v0.0.4\u001b[39m\n",
      "\u001b[32m⌃\u001b[39m\u001b[90m [6218d12a] \u001b[39m\u001b[92m+ ImageMagick v1.2.1\u001b[39m\n",
      " \u001b[90m [824d6782] \u001b[39m\u001b[92m+ JSServe v1.2.9\u001b[39m\n",
      "\u001b[33m⌅\u001b[39m\u001b[90m [05181044] \u001b[39m\u001b[95m↓ RelocatableFolders v0.3.0 ⇒ v0.1.3\u001b[39m\n",
      "\u001b[32m⌃\u001b[39m\u001b[90m [276b4fcb] \u001b[39m\u001b[92m+ WGLMakie v0.6.13\u001b[39m\n",
      " \u001b[90m [eead4739] \u001b[39m\u001b[92m+ WidgetsBase v0.1.4\u001b[39m\n",
      " \u001b[90m [61579ee1] \u001b[39m\u001b[92m+ Ghostscript_jll v9.55.0+0\u001b[39m\n",
      " \u001b[90m [c73af94c] \u001b[39m\u001b[92m+ ImageMagick_jll v6.9.12+3\u001b[39m\n",
      "\u001b[36m\u001b[1m        Info\u001b[22m\u001b[39m Packages marked with \u001b[32m⌃\u001b[39m and \u001b[33m⌅\u001b[39m have new versions available, but those with \u001b[33m⌅\u001b[39m cannot be upgraded. To see why use `status --outdated -m`\n"
     ]
    },
    {
     "name": "stderr",
     "output_type": "stream",
     "text": [
      "\u001b[32m\u001b[1mPrecompiling\u001b[22m\u001b[39m project...\n"
     ]
    },
    {
     "name": "stderr",
     "output_type": "stream",
     "text": [
      "\u001b[32m  ✓ \u001b[39m\u001b[90mWidgetsBase\u001b[39m\n"
     ]
    },
    {
     "name": "stderr",
     "output_type": "stream",
     "text": [
      "\u001b[32m  ✓ \u001b[39m\u001b[90mRelocatableFolders\u001b[39m\n"
     ]
    },
    {
     "name": "stderr",
     "output_type": "stream",
     "text": [
      "\u001b[32m  ✓ \u001b[39m\u001b[90mGhostscript_jll\u001b[39m\n"
     ]
    },
    {
     "name": "stderr",
     "output_type": "stream",
     "text": [
      "\u001b[32m  ✓ \u001b[39m\u001b[90mImageMagick_jll\u001b[39m\n"
     ]
    },
    {
     "name": "stderr",
     "output_type": "stream",
     "text": [
      "\u001b[32m  ✓ \u001b[39m\u001b[90mGR\u001b[39m\n"
     ]
    },
    {
     "name": "stderr",
     "output_type": "stream",
     "text": [
      "\u001b[32m  ✓ \u001b[39m\u001b[90mJSServe\u001b[39m\n"
     ]
    },
    {
     "name": "stderr",
     "output_type": "stream",
     "text": [
      "\u001b[32m  ✓ \u001b[39m\u001b[90mMathTeXEngine\u001b[39m\n"
     ]
    },
    {
     "name": "stderr",
     "output_type": "stream",
     "text": [
      "\u001b[32m  ✓ \u001b[39mPluto\n"
     ]
    },
    {
     "name": "stderr",
     "output_type": "stream",
     "text": [
      "\u001b[32m  ✓ \u001b[39m\u001b[90mImageMagick\u001b[39m\n"
     ]
    },
    {
     "name": "stderr",
     "output_type": "stream",
     "text": [
      "\u001b[32m  ✓ \u001b[39mPlots\n"
     ]
    },
    {
     "name": "stderr",
     "output_type": "stream",
     "text": [
      "\u001b[32m  ✓ \u001b[39mStatsPlots\n"
     ]
    },
    {
     "name": "stderr",
     "output_type": "stream",
     "text": [
      "\u001b[32m  ✓ \u001b[39mMakie\n"
     ]
    },
    {
     "name": "stderr",
     "output_type": "stream",
     "text": [
      "\u001b[32m  ✓ \u001b[39m\u001b[90mAlgebraOfGraphics\u001b[39m\n"
     ]
    },
    {
     "name": "stderr",
     "output_type": "stream",
     "text": [
      "\u001b[32m  ✓ \u001b[39mTopoPlots\n"
     ]
    },
    {
     "name": "stderr",
     "output_type": "stream",
     "text": [
      "\u001b[32m  ✓ \u001b[39mCairoMakie\n"
     ]
    },
    {
     "name": "stderr",
     "output_type": "stream",
     "text": [
      "\u001b[32m  ✓ \u001b[39mGLMakie\n"
     ]
    },
    {
     "name": "stderr",
     "output_type": "stream",
     "text": [
      "\u001b[32m  ✓ \u001b[39mWGLMakie\n"
     ]
    },
    {
     "name": "stderr",
     "output_type": "stream",
     "text": [
      "\u001b[32m  ✓ \u001b[39mUnfoldMakie\n",
      "  18 dependencies successfully precompiled in 351 seconds. 345 already precompiled. 1 skipped during auto due to previous errors.\n"
     ]
    }
   ],
   "source": [
    "import Pkg; Pkg.add(\"WGLMakie\")"
   ]
  },
  {
   "cell_type": "code",
   "execution_count": 2,
   "metadata": {},
   "outputs": [],
   "source": [
    "Makie.inline!(true)"
   ]
  },
  {
   "cell_type": "code",
   "execution_count": 4,
   "metadata": {},
   "outputs": [
    {
     "name": "stderr",
     "output_type": "stream",
     "text": [
      "┌ Warning: labelslidergrid! is deprecated and will be removed in the future. Use SliderGrid instead.\n",
      "│   caller = ip:0x0\n",
      "└ @ Core :-1\n"
     ]
    },
    {
     "data": {
      "text/html": [
       "<div data-jscall-id=\"2\"><script data-jscall-id=\"3\" type=\"text/javascript\">\n",
       "    function register_resize_handler(remote_origin) {\n",
       "        function resize_callback(event) {\n",
       "            if (event.origin !== remote_origin) {\n",
       "                return;\n",
       "            }\n",
       "            const uuid = event.data[0];\n",
       "            const width = event.data[1];\n",
       "            const height = event.data[2];\n",
       "            const iframe = document.getElementById('0a8680fb-f8c9-47ea-8dad-69aaa2fb9d34');\n",
       "            if (iframe) {\n",
       "                iframe.style.width = width + \"px\";\n",
       "                iframe.style.height = height + \"px\";\n",
       "            }\n",
       "        }\n",
       "        if (window.addEventListener) {\n",
       "            window.addEventListener(\"message\", resize_callback, false);\n",
       "        } else if (window.attachEvent) {\n",
       "            window.attachEvent(\"onmessage\", resize_callback);\n",
       "        }\n",
       "    }\n",
       "    register_resize_handler('http://127.0.0.1:9284')\n",
       "\n",
       "</script><iframe scrolling=\"no\" id=\"0a8680fb-f8c9-47ea-8dad-69aaa2fb9d34\" data-jscall-id=\"1\" src=\"http://127.0.0.1:9284/0a8680fb-f8c9-47ea-8dad-69aaa2fb9d34\" style=\"position: relative; display: block; width: 100%; height: 100%; padding: 0; overflow: hidden; border: none\"></iframe></div>\n"
      ]
     },
     "metadata": {},
     "output_type": "display_data"
    }
   ],
   "source": [
    "fig = Figure()\n",
    "ax1 = fig[1, 1] = Axis(fig,\n",
    "    # borders\n",
    "    aspect = 1, # square height and width\n",
    "    # title\n",
    "    title = \"Sliders Tutorial\",\n",
    "    titlegap = 20, titlesize = 38,\n",
    "    # x-axis\n",
    "    xautolimitmargin = (0, 0), xgridwidth = 1, xticklabelsize = 14,\n",
    "    xticks = LinearTicks(20), xticksize = 14,\n",
    "    # y-axis\n",
    "    yautolimitmargin = (0, 0), ygridwidth = 2, yticklabelpad = 14, xticklabelrotation=45.0, \n",
    "    yticklabelsize = 14, yticks = LinearTicks(20), yticksize = 14\n",
    ")\n",
    "\n",
    "# darken axes\n",
    "\n",
    "vlines!(ax1, [0], linewidth = 2)\n",
    "hlines!(ax1, [0], linewidth = 2)\n",
    "\n",
    "lsgrid = labelslidergrid!(fig,\n",
    "    [\"slope\", \"y-intercept\"],\n",
    "    Ref(LinRange(-10:0.01:10));\n",
    "    formats = [x -> \"$(round(x, digits = 2))\"],\n",
    "    labelkw = Dict([(:textsize, 20)]),\n",
    "    sliderkw = Dict([(:linewidth, 20)]),\n",
    "    valuekw = Dict([(:textsize, 20)])\n",
    ")\n",
    "\n",
    "\n",
    "# set starting position for slope\n",
    "\n",
    "set_close_to!(lsgrid.sliders[1], 1.0)\n",
    "\n",
    "# layout sliders, put slider under the field\n",
    "\n",
    "sl_sublayout = GridLayout(height = 140)\n",
    "fig[2, 1] = sl_sublayout\n",
    "fig[2, 1] = lsgrid.layout\n",
    "\n",
    "# create listener\n",
    "\n",
    "slope = lsgrid.sliders[1].value\n",
    "intercept = lsgrid.sliders[2].value\n",
    "x = -10:0.01:10\n",
    "y = @lift($slope .* x .+ $intercept)\n",
    "\n",
    "# add line plot\n",
    "line1 = lines!(ax1, x, y, color = :lightblue, linewidth = 3)\n",
    "\n",
    "\n",
    "# reset axes limits, if necessary\n",
    "\n",
    "xlims!(ax1, -10, 10)\n",
    "ylims!(ax1, -10, 10)\n",
    "\n",
    "# add scatter plot\n",
    "\n",
    "rx = -10:0.5:10\n",
    "ry = rand(length(rx)) .+ -rx * 0.5 .+ 3\n",
    "scatter1 = scatter!(ax1, rx, ry, color = :red, markersize = 15)\n",
    "\n",
    "# reset axes limits, if necessary\n",
    "\n",
    "xlims!(ax1, -10, 10)\n",
    "ylims!(ax1, -10, 10)\n",
    "\n",
    "fig"
   ]
  },
  {
   "cell_type": "code",
   "execution_count": null,
   "metadata": {},
   "outputs": [],
   "source": []
  }
 ],
 "metadata": {
  "kernelspec": {
   "display_name": "Julia 1.8.0",
   "language": "julia",
   "name": "julia-1.8"
  },
  "language_info": {
   "file_extension": ".jl",
   "mimetype": "application/julia",
   "name": "julia",
   "version": "1.8.0"
  },
  "orig_nbformat": 4,
  "vscode": {
   "interpreter": {
    "hash": "916dbcbb3f70747c44a77c7bcd40155683ae19c65e1c03b4aa3499c5328201f1"
   }
  }
 },
 "nbformat": 4,
 "nbformat_minor": 2
}
